{
 "cells": [
  {
   "cell_type": "code",
   "execution_count": 1,
   "id": "dbab40fb",
   "metadata": {},
   "outputs": [],
   "source": [
    "import pandas as pd\n",
    "import numpy as np\n",
    "import seaborn as sns\n",
    "import matplotlib.pyplot as plt\n",
    "%matplotlib inline\n",
    "import plotly.express as px\n",
    "import warnings\n",
    "warnings.filterwarnings('ignore')\n",
    "import re"
   ]
  },
  {
   "cell_type": "code",
   "execution_count": 2,
   "id": "2a1c0063",
   "metadata": {},
   "outputs": [
    {
     "name": "stdout",
     "output_type": "stream",
     "text": [
      " Volume in drive C has no label.\n",
      " Volume Serial Number is 8E56-AFA1\n",
      "\n",
      " Directory of C:\\Users\\HARI KISHAN\\cat\n",
      "\n",
      "27-09-2022  14:11    <DIR>          .\n",
      "27-09-2022  14:08    <DIR>          ..\n",
      "27-09-2022  14:11    <DIR>          .ipynb_checkpoints\n",
      "27-09-2022  13:10             1,408 app.py\n",
      "27-09-2022  14:01           466,081 CarPrice Prediction.ipynb\n",
      "07-08-2022  09:04           433,214 Dataset.csv\n",
      "27-09-2022  14:08    <DIR>          his\n",
      "27-09-2022  14:10    <DIR>          templates\n",
      "               3 File(s)        900,703 bytes\n",
      "               5 Dir(s)  194,607,099,904 bytes free\n"
     ]
    }
   ],
   "source": [
    "ls"
   ]
  },
  {
   "cell_type": "code",
   "execution_count": 3,
   "id": "eff46cef",
   "metadata": {},
   "outputs": [
    {
     "data": {
      "text/html": [
       "<div>\n",
       "<style scoped>\n",
       "    .dataframe tbody tr th:only-of-type {\n",
       "        vertical-align: middle;\n",
       "    }\n",
       "\n",
       "    .dataframe tbody tr th {\n",
       "        vertical-align: top;\n",
       "    }\n",
       "\n",
       "    .dataframe thead th {\n",
       "        text-align: right;\n",
       "    }\n",
       "</style>\n",
       "<table border=\"1\" class=\"dataframe\">\n",
       "  <thead>\n",
       "    <tr style=\"text-align: right;\">\n",
       "      <th></th>\n",
       "      <th>Unnamed: 0</th>\n",
       "      <th>Id</th>\n",
       "      <th>year</th>\n",
       "      <th>brand</th>\n",
       "      <th>full_model_name</th>\n",
       "      <th>model_name</th>\n",
       "      <th>price</th>\n",
       "      <th>distance_travelled(kms)</th>\n",
       "      <th>fuel_type</th>\n",
       "      <th>city</th>\n",
       "      <th>...</th>\n",
       "      <th>new and less used</th>\n",
       "      <th>inv_car_price</th>\n",
       "      <th>inv_car_dist</th>\n",
       "      <th>inv_car_age</th>\n",
       "      <th>inv_brand</th>\n",
       "      <th>std_invprice</th>\n",
       "      <th>std_invdistance_travelled</th>\n",
       "      <th>std_invrank</th>\n",
       "      <th>best_buy1</th>\n",
       "      <th>best_buy2</th>\n",
       "    </tr>\n",
       "  </thead>\n",
       "  <tbody>\n",
       "    <tr>\n",
       "      <th>0</th>\n",
       "      <td>0</td>\n",
       "      <td>0</td>\n",
       "      <td>2016</td>\n",
       "      <td>Honda</td>\n",
       "      <td>Honda Brio S MT</td>\n",
       "      <td>Brio</td>\n",
       "      <td>425000.0</td>\n",
       "      <td>9680.0</td>\n",
       "      <td>Petrol</td>\n",
       "      <td>Mumbai</td>\n",
       "      <td>...</td>\n",
       "      <td>0</td>\n",
       "      <td>2.352941e-06</td>\n",
       "      <td>0.000103</td>\n",
       "      <td>0.200000</td>\n",
       "      <td>0.142857</td>\n",
       "      <td>0.143417</td>\n",
       "      <td>0.035730</td>\n",
       "      <td>0.132143</td>\n",
       "      <td>677.134239</td>\n",
       "      <td>0.0</td>\n",
       "    </tr>\n",
       "    <tr>\n",
       "      <th>1</th>\n",
       "      <td>1</td>\n",
       "      <td>1</td>\n",
       "      <td>2012</td>\n",
       "      <td>Nissan</td>\n",
       "      <td>Nissan Sunny XV Diesel</td>\n",
       "      <td>Sunny</td>\n",
       "      <td>325000.0</td>\n",
       "      <td>119120.0</td>\n",
       "      <td>Diesel</td>\n",
       "      <td>Mumbai</td>\n",
       "      <td>...</td>\n",
       "      <td>0</td>\n",
       "      <td>3.076923e-06</td>\n",
       "      <td>0.000008</td>\n",
       "      <td>0.111111</td>\n",
       "      <td>0.090909</td>\n",
       "      <td>0.188859</td>\n",
       "      <td>0.002496</td>\n",
       "      <td>0.079545</td>\n",
       "      <td>37.501318</td>\n",
       "      <td>0.0</td>\n",
       "    </tr>\n",
       "    <tr>\n",
       "      <th>2</th>\n",
       "      <td>2</td>\n",
       "      <td>2</td>\n",
       "      <td>2017</td>\n",
       "      <td>Toyota</td>\n",
       "      <td>Toyota Fortuner 2.8 4x2 MT [2016-2020]</td>\n",
       "      <td>Fortuner</td>\n",
       "      <td>2650000.0</td>\n",
       "      <td>64593.0</td>\n",
       "      <td>Diesel</td>\n",
       "      <td>Thane</td>\n",
       "      <td>...</td>\n",
       "      <td>0</td>\n",
       "      <td>3.773585e-07</td>\n",
       "      <td>0.000015</td>\n",
       "      <td>0.250000</td>\n",
       "      <td>1.000000</td>\n",
       "      <td>0.019416</td>\n",
       "      <td>0.004978</td>\n",
       "      <td>1.000000</td>\n",
       "      <td>96.646020</td>\n",
       "      <td>0.0</td>\n",
       "    </tr>\n",
       "  </tbody>\n",
       "</table>\n",
       "<p>3 rows × 23 columns</p>\n",
       "</div>"
      ],
      "text/plain": [
       "   Unnamed: 0  Id  year   brand                         full_model_name  \\\n",
       "0           0   0  2016   Honda                         Honda Brio S MT   \n",
       "1           1   1  2012  Nissan                  Nissan Sunny XV Diesel   \n",
       "2           2   2  2017  Toyota  Toyota Fortuner 2.8 4x2 MT [2016-2020]   \n",
       "\n",
       "  model_name      price  distance_travelled(kms) fuel_type    city  ...  \\\n",
       "0       Brio   425000.0                   9680.0    Petrol  Mumbai  ...   \n",
       "1      Sunny   325000.0                 119120.0    Diesel  Mumbai  ...   \n",
       "2   Fortuner  2650000.0                  64593.0    Diesel   Thane  ...   \n",
       "\n",
       "   new and less used  inv_car_price  inv_car_dist  inv_car_age  inv_brand  \\\n",
       "0                  0   2.352941e-06      0.000103     0.200000   0.142857   \n",
       "1                  0   3.076923e-06      0.000008     0.111111   0.090909   \n",
       "2                  0   3.773585e-07      0.000015     0.250000   1.000000   \n",
       "\n",
       "   std_invprice  std_invdistance_travelled  std_invrank   best_buy1  best_buy2  \n",
       "0      0.143417                   0.035730     0.132143  677.134239        0.0  \n",
       "1      0.188859                   0.002496     0.079545   37.501318        0.0  \n",
       "2      0.019416                   0.004978     1.000000   96.646020        0.0  \n",
       "\n",
       "[3 rows x 23 columns]"
      ]
     },
     "execution_count": 3,
     "metadata": {},
     "output_type": "execute_result"
    }
   ],
   "source": [
    "df = pd.read_csv(\"Dataset.csv\",na_values= np.inf)\n",
    "df.head(3)"
   ]
  },
  {
   "cell_type": "code",
   "execution_count": 4,
   "id": "29e089aa",
   "metadata": {},
   "outputs": [
    {
     "data": {
      "text/plain": [
       "(1725, 23)"
      ]
     },
     "execution_count": 4,
     "metadata": {},
     "output_type": "execute_result"
    }
   ],
   "source": [
    "df.shape"
   ]
  },
  {
   "cell_type": "code",
   "execution_count": 5,
   "id": "773c2f98",
   "metadata": {},
   "outputs": [
    {
     "data": {
      "text/plain": [
       "Index(['Unnamed: 0', 'Id', 'year', 'brand', 'full_model_name', 'model_name',\n",
       "       'price', 'distance_travelled(kms)', 'fuel_type', 'city', 'brand_rank',\n",
       "       'car_age', 'distance below 30k km', 'new and less used',\n",
       "       'inv_car_price', 'inv_car_dist', 'inv_car_age', 'inv_brand',\n",
       "       'std_invprice', 'std_invdistance_travelled', 'std_invrank', 'best_buy1',\n",
       "       'best_buy2'],\n",
       "      dtype='object')"
      ]
     },
     "execution_count": 5,
     "metadata": {},
     "output_type": "execute_result"
    }
   ],
   "source": [
    "df.columns"
   ]
  },
  {
   "cell_type": "code",
   "execution_count": 6,
   "id": "8a82b219",
   "metadata": {
    "scrolled": true
   },
   "outputs": [
    {
     "data": {
      "text/plain": [
       "Unnamed: 0                    0\n",
       "Id                            0\n",
       "year                          0\n",
       "brand                         0\n",
       "full_model_name               0\n",
       "model_name                    0\n",
       "price                         0\n",
       "distance_travelled(kms)       0\n",
       "fuel_type                     0\n",
       "city                          0\n",
       "brand_rank                    0\n",
       "car_age                       0\n",
       "distance below 30k km         0\n",
       "new and less used             0\n",
       "inv_car_price                 0\n",
       "inv_car_dist                  0\n",
       "inv_car_age                  21\n",
       "inv_brand                     0\n",
       "std_invprice                  0\n",
       "std_invdistance_travelled     0\n",
       "std_invrank                   0\n",
       "best_buy1                     0\n",
       "best_buy2                     0\n",
       "dtype: int64"
      ]
     },
     "execution_count": 6,
     "metadata": {},
     "output_type": "execute_result"
    }
   ],
   "source": [
    "df.isnull().sum()"
   ]
  },
  {
   "cell_type": "code",
   "execution_count": 7,
   "id": "24239009",
   "metadata": {},
   "outputs": [],
   "source": [
    "df.dropna(inplace=True)"
   ]
  },
  {
   "cell_type": "code",
   "execution_count": 8,
   "id": "51116576",
   "metadata": {},
   "outputs": [],
   "source": [
    "df.drop('Unnamed: 0',axis=1,inplace=True)"
   ]
  },
  {
   "cell_type": "code",
   "execution_count": 9,
   "id": "41c25581",
   "metadata": {},
   "outputs": [
    {
     "name": "stdout",
     "output_type": "stream",
     "text": [
      "<class 'pandas.core.frame.DataFrame'>\n",
      "Int64Index: 1704 entries, 0 to 1724\n",
      "Data columns (total 22 columns):\n",
      " #   Column                     Non-Null Count  Dtype  \n",
      "---  ------                     --------------  -----  \n",
      " 0   Id                         1704 non-null   int64  \n",
      " 1   year                       1704 non-null   int64  \n",
      " 2   brand                      1704 non-null   object \n",
      " 3   full_model_name            1704 non-null   object \n",
      " 4   model_name                 1704 non-null   object \n",
      " 5   price                      1704 non-null   float64\n",
      " 6   distance_travelled(kms)    1704 non-null   float64\n",
      " 7   fuel_type                  1704 non-null   object \n",
      " 8   city                       1704 non-null   object \n",
      " 9   brand_rank                 1704 non-null   int64  \n",
      " 10  car_age                    1704 non-null   float64\n",
      " 11  distance below 30k km      1704 non-null   int64  \n",
      " 12  new and less used          1704 non-null   int64  \n",
      " 13  inv_car_price              1704 non-null   float64\n",
      " 14  inv_car_dist               1704 non-null   float64\n",
      " 15  inv_car_age                1704 non-null   float64\n",
      " 16  inv_brand                  1704 non-null   float64\n",
      " 17  std_invprice               1704 non-null   float64\n",
      " 18  std_invdistance_travelled  1704 non-null   float64\n",
      " 19  std_invrank                1704 non-null   float64\n",
      " 20  best_buy1                  1704 non-null   float64\n",
      " 21  best_buy2                  1704 non-null   float64\n",
      "dtypes: float64(12), int64(5), object(5)\n",
      "memory usage: 306.2+ KB\n"
     ]
    }
   ],
   "source": [
    "df.info()"
   ]
  },
  {
   "cell_type": "code",
   "execution_count": 10,
   "id": "b7a909b5",
   "metadata": {},
   "outputs": [
    {
     "data": {
      "text/plain": [
       "Id                           0\n",
       "year                         0\n",
       "brand                        0\n",
       "full_model_name              0\n",
       "model_name                   0\n",
       "price                        0\n",
       "distance_travelled(kms)      0\n",
       "fuel_type                    0\n",
       "city                         0\n",
       "brand_rank                   0\n",
       "car_age                      0\n",
       "distance below 30k km        0\n",
       "new and less used            0\n",
       "inv_car_price                0\n",
       "inv_car_dist                 0\n",
       "inv_car_age                  0\n",
       "inv_brand                    0\n",
       "std_invprice                 0\n",
       "std_invdistance_travelled    0\n",
       "std_invrank                  0\n",
       "best_buy1                    0\n",
       "best_buy2                    0\n",
       "dtype: int64"
      ]
     },
     "execution_count": 10,
     "metadata": {},
     "output_type": "execute_result"
    }
   ],
   "source": [
    "df.isnull().sum()"
   ]
  },
  {
   "cell_type": "code",
   "execution_count": 11,
   "id": "1ba4b487",
   "metadata": {},
   "outputs": [
    {
     "data": {
      "text/html": [
       "<div>\n",
       "<style scoped>\n",
       "    .dataframe tbody tr th:only-of-type {\n",
       "        vertical-align: middle;\n",
       "    }\n",
       "\n",
       "    .dataframe tbody tr th {\n",
       "        vertical-align: top;\n",
       "    }\n",
       "\n",
       "    .dataframe thead th {\n",
       "        text-align: right;\n",
       "    }\n",
       "</style>\n",
       "<table border=\"1\" class=\"dataframe\">\n",
       "  <thead>\n",
       "    <tr style=\"text-align: right;\">\n",
       "      <th></th>\n",
       "      <th>Id</th>\n",
       "      <th>year</th>\n",
       "      <th>price</th>\n",
       "      <th>distance_travelled(kms)</th>\n",
       "      <th>brand_rank</th>\n",
       "      <th>car_age</th>\n",
       "      <th>distance below 30k km</th>\n",
       "      <th>new and less used</th>\n",
       "      <th>inv_car_price</th>\n",
       "      <th>inv_car_dist</th>\n",
       "      <th>inv_car_age</th>\n",
       "      <th>inv_brand</th>\n",
       "      <th>std_invprice</th>\n",
       "      <th>std_invdistance_travelled</th>\n",
       "      <th>std_invrank</th>\n",
       "      <th>best_buy1</th>\n",
       "      <th>best_buy2</th>\n",
       "    </tr>\n",
       "  </thead>\n",
       "  <tbody>\n",
       "    <tr>\n",
       "      <th>count</th>\n",
       "      <td>1704.000000</td>\n",
       "      <td>1704.000000</td>\n",
       "      <td>1.704000e+03</td>\n",
       "      <td>1704.000000</td>\n",
       "      <td>1704.000000</td>\n",
       "      <td>1704.000000</td>\n",
       "      <td>1704.000000</td>\n",
       "      <td>1704.000000</td>\n",
       "      <td>1.704000e+03</td>\n",
       "      <td>1704.000000</td>\n",
       "      <td>1704.000000</td>\n",
       "      <td>1704.000000</td>\n",
       "      <td>1704.000000</td>\n",
       "      <td>1704.000000</td>\n",
       "      <td>1704.000000</td>\n",
       "      <td>1704.000000</td>\n",
       "      <td>1704.000000</td>\n",
       "    </tr>\n",
       "    <tr>\n",
       "      <th>mean</th>\n",
       "      <td>862.642019</td>\n",
       "      <td>2015.321596</td>\n",
       "      <td>1.487749e+06</td>\n",
       "      <td>54437.968897</td>\n",
       "      <td>15.649061</td>\n",
       "      <td>5.678404</td>\n",
       "      <td>0.260563</td>\n",
       "      <td>0.199531</td>\n",
       "      <td>1.425940e-06</td>\n",
       "      <td>0.000036</td>\n",
       "      <td>0.258832</td>\n",
       "      <td>0.188842</td>\n",
       "      <td>0.085232</td>\n",
       "      <td>0.012206</td>\n",
       "      <td>0.178703</td>\n",
       "      <td>86.388470</td>\n",
       "      <td>29.267389</td>\n",
       "    </tr>\n",
       "    <tr>\n",
       "      <th>std</th>\n",
       "      <td>498.047723</td>\n",
       "      <td>3.165782</td>\n",
       "      <td>1.676505e+06</td>\n",
       "      <td>44680.314096</td>\n",
       "      <td>12.785555</td>\n",
       "      <td>3.165782</td>\n",
       "      <td>0.439071</td>\n",
       "      <td>0.399765</td>\n",
       "      <td>1.295964e-06</td>\n",
       "      <td>0.000070</td>\n",
       "      <td>0.202657</td>\n",
       "      <td>0.255999</td>\n",
       "      <td>0.081344</td>\n",
       "      <td>0.024487</td>\n",
       "      <td>0.259199</td>\n",
       "      <td>184.784421</td>\n",
       "      <td>152.160375</td>\n",
       "    </tr>\n",
       "    <tr>\n",
       "      <th>min</th>\n",
       "      <td>0.000000</td>\n",
       "      <td>1990.000000</td>\n",
       "      <td>6.250000e+04</td>\n",
       "      <td>700.000000</td>\n",
       "      <td>1.000000</td>\n",
       "      <td>1.000000</td>\n",
       "      <td>0.000000</td>\n",
       "      <td>0.000000</td>\n",
       "      <td>6.802721e-08</td>\n",
       "      <td>0.000001</td>\n",
       "      <td>0.032258</td>\n",
       "      <td>0.012346</td>\n",
       "      <td>0.000000</td>\n",
       "      <td>0.000000</td>\n",
       "      <td>0.000000</td>\n",
       "      <td>0.000000</td>\n",
       "      <td>0.000000</td>\n",
       "    </tr>\n",
       "    <tr>\n",
       "      <th>25%</th>\n",
       "      <td>431.750000</td>\n",
       "      <td>2013.000000</td>\n",
       "      <td>5.400000e+05</td>\n",
       "      <td>30000.000000</td>\n",
       "      <td>4.750000</td>\n",
       "      <td>3.000000</td>\n",
       "      <td>0.000000</td>\n",
       "      <td>0.000000</td>\n",
       "      <td>5.555556e-07</td>\n",
       "      <td>0.000014</td>\n",
       "      <td>0.125000</td>\n",
       "      <td>0.041667</td>\n",
       "      <td>0.030601</td>\n",
       "      <td>0.004489</td>\n",
       "      <td>0.029687</td>\n",
       "      <td>14.079171</td>\n",
       "      <td>0.000000</td>\n",
       "    </tr>\n",
       "    <tr>\n",
       "      <th>50%</th>\n",
       "      <td>862.500000</td>\n",
       "      <td>2016.000000</td>\n",
       "      <td>8.700000e+05</td>\n",
       "      <td>49998.500000</td>\n",
       "      <td>14.000000</td>\n",
       "      <td>5.000000</td>\n",
       "      <td>0.000000</td>\n",
       "      <td>0.000000</td>\n",
       "      <td>1.149425e-06</td>\n",
       "      <td>0.000020</td>\n",
       "      <td>0.200000</td>\n",
       "      <td>0.071429</td>\n",
       "      <td>0.067876</td>\n",
       "      <td>0.006560</td>\n",
       "      <td>0.059821</td>\n",
       "      <td>35.867806</td>\n",
       "      <td>0.000000</td>\n",
       "    </tr>\n",
       "    <tr>\n",
       "      <th>75%</th>\n",
       "      <td>1295.250000</td>\n",
       "      <td>2018.000000</td>\n",
       "      <td>1.800000e+06</td>\n",
       "      <td>71000.000000</td>\n",
       "      <td>24.000000</td>\n",
       "      <td>8.000000</td>\n",
       "      <td>1.000000</td>\n",
       "      <td>0.000000</td>\n",
       "      <td>1.851852e-06</td>\n",
       "      <td>0.000033</td>\n",
       "      <td>0.333333</td>\n",
       "      <td>0.212500</td>\n",
       "      <td>0.111965</td>\n",
       "      <td>0.011229</td>\n",
       "      <td>0.202656</td>\n",
       "      <td>89.593038</td>\n",
       "      <td>0.000000</td>\n",
       "    </tr>\n",
       "    <tr>\n",
       "      <th>max</th>\n",
       "      <td>1724.000000</td>\n",
       "      <td>2020.000000</td>\n",
       "      <td>1.470000e+07</td>\n",
       "      <td>790000.000000</td>\n",
       "      <td>81.000000</td>\n",
       "      <td>31.000000</td>\n",
       "      <td>1.000000</td>\n",
       "      <td>1.000000</td>\n",
       "      <td>1.600000e-05</td>\n",
       "      <td>0.001429</td>\n",
       "      <td>1.000000</td>\n",
       "      <td>1.000000</td>\n",
       "      <td>1.000000</td>\n",
       "      <td>0.499778</td>\n",
       "      <td>1.000000</td>\n",
       "      <td>2477.517640</td>\n",
       "      <td>2477.517640</td>\n",
       "    </tr>\n",
       "  </tbody>\n",
       "</table>\n",
       "</div>"
      ],
      "text/plain": [
       "                Id         year         price  distance_travelled(kms)  \\\n",
       "count  1704.000000  1704.000000  1.704000e+03              1704.000000   \n",
       "mean    862.642019  2015.321596  1.487749e+06             54437.968897   \n",
       "std     498.047723     3.165782  1.676505e+06             44680.314096   \n",
       "min       0.000000  1990.000000  6.250000e+04               700.000000   \n",
       "25%     431.750000  2013.000000  5.400000e+05             30000.000000   \n",
       "50%     862.500000  2016.000000  8.700000e+05             49998.500000   \n",
       "75%    1295.250000  2018.000000  1.800000e+06             71000.000000   \n",
       "max    1724.000000  2020.000000  1.470000e+07            790000.000000   \n",
       "\n",
       "        brand_rank      car_age  distance below 30k km  new and less used  \\\n",
       "count  1704.000000  1704.000000            1704.000000        1704.000000   \n",
       "mean     15.649061     5.678404               0.260563           0.199531   \n",
       "std      12.785555     3.165782               0.439071           0.399765   \n",
       "min       1.000000     1.000000               0.000000           0.000000   \n",
       "25%       4.750000     3.000000               0.000000           0.000000   \n",
       "50%      14.000000     5.000000               0.000000           0.000000   \n",
       "75%      24.000000     8.000000               1.000000           0.000000   \n",
       "max      81.000000    31.000000               1.000000           1.000000   \n",
       "\n",
       "       inv_car_price  inv_car_dist  inv_car_age    inv_brand  std_invprice  \\\n",
       "count   1.704000e+03   1704.000000  1704.000000  1704.000000   1704.000000   \n",
       "mean    1.425940e-06      0.000036     0.258832     0.188842      0.085232   \n",
       "std     1.295964e-06      0.000070     0.202657     0.255999      0.081344   \n",
       "min     6.802721e-08      0.000001     0.032258     0.012346      0.000000   \n",
       "25%     5.555556e-07      0.000014     0.125000     0.041667      0.030601   \n",
       "50%     1.149425e-06      0.000020     0.200000     0.071429      0.067876   \n",
       "75%     1.851852e-06      0.000033     0.333333     0.212500      0.111965   \n",
       "max     1.600000e-05      0.001429     1.000000     1.000000      1.000000   \n",
       "\n",
       "       std_invdistance_travelled  std_invrank    best_buy1    best_buy2  \n",
       "count                1704.000000  1704.000000  1704.000000  1704.000000  \n",
       "mean                    0.012206     0.178703    86.388470    29.267389  \n",
       "std                     0.024487     0.259199   184.784421   152.160375  \n",
       "min                     0.000000     0.000000     0.000000     0.000000  \n",
       "25%                     0.004489     0.029687    14.079171     0.000000  \n",
       "50%                     0.006560     0.059821    35.867806     0.000000  \n",
       "75%                     0.011229     0.202656    89.593038     0.000000  \n",
       "max                     0.499778     1.000000  2477.517640  2477.517640  "
      ]
     },
     "execution_count": 11,
     "metadata": {},
     "output_type": "execute_result"
    }
   ],
   "source": [
    "df.describe()"
   ]
  },
  {
   "cell_type": "markdown",
   "id": "4d1e1418",
   "metadata": {},
   "source": [
    "<h3 style=\"color:red\">Univariant Analysis</h3>"
   ]
  },
  {
   "cell_type": "code",
   "execution_count": 12,
   "id": "eba1fa58",
   "metadata": {},
   "outputs": [],
   "source": [
    "# for i in df.columns:\n",
    "#     try:\n",
    "#         sns.distplot(df[i])\n",
    "#         plt.show()\n",
    "#     except:\n",
    "#         pass"
   ]
  },
  {
   "cell_type": "code",
   "execution_count": 13,
   "id": "ac957865",
   "metadata": {},
   "outputs": [
    {
     "data": {
      "image/png": "[encoded data removed]",
      "text/plain": [
       "<Figure size 640x480 with 1 Axes>"
      ]
     },
     "metadata": {},
     "output_type": "display_data"
    },
    {
     "data": {
      "image/png": "[encoded data removed]",
      "text/plain": [
       "<Figure size 640x480 with 1 Axes>"
      ]
     },
     "metadata": {},
     "output_type": "display_data"
    },
    {
     "data": {
      "image/png": "[encoded data removed]",
      "text/plain": [
       "<Figure size 640x480 with 1 Axes>"
      ]
     },
     "metadata": {},
     "output_type": "display_data"
    },
    {
     "data": {
      "image/png": "[encoded data removed]",
      "text/plain": [
       "<Figure size 640x480 with 1 Axes>"
      ]
     },
     "metadata": {},
     "output_type": "display_data"
    },
    {
     "data": {
      "image/png": "[encoded data removed]",
      "text/plain": [
       "<Figure size 640x480 with 1 Axes>"
      ]
     },
     "metadata": {},
     "output_type": "display_data"
    },
    {
     "data": {
      "image/png": "[encoded data removed]",
      "text/plain": [
       "<Figure size 640x480 with 1 Axes>"
      ]
     },
     "metadata": {},
     "output_type": "display_data"
    },
    {
     "data": {
      "image/png": "[encoded data removed]",
      "text/plain": [
       "<Figure size 640x480 with 1 Axes>"
      ]
     },
     "metadata": {},
     "output_type": "display_data"
    },
    {
     "data": {
      "image/png": "[encoded data removed]",
      "text/plain": [
       "<Figure size 640x480 with 1 Axes>"
      ]
     },
     "metadata": {},
     "output_type": "display_data"
    },
    {
     "data": {
      "image/png": "[encoded data removed]",
      "text/plain": [
       "<Figure size 640x480 with 1 Axes>"
      ]
     },
     "metadata": {},
     "output_type": "display_data"
    },
    {
     "data": {
      "image/png": "[encoded data removed]",
      "text/plain": [
       "<Figure size 640x480 with 1 Axes>"
      ]
     },
     "metadata": {},
     "output_type": "display_data"
    },
    {
     "data": {
      "image/png": "[encoded data removed]",
      "text/plain": [
       "<Figure size 640x480 with 1 Axes>"
      ]
     },
     "metadata": {},
     "output_type": "display_data"
    },
    {
     "data": {
      "image/png": "[encoded data removed]",
      "text/plain": [
       "<Figure size 640x480 with 1 Axes>"
      ]
     },
     "metadata": {},
     "output_type": "display_data"
    },
    {
     "data": {
      "image/png": "[encoded data removed]",
      "text/plain": [
       "<Figure size 640x480 with 1 Axes>"
      ]
     },
     "metadata": {},
     "output_type": "display_data"
    },
    {
     "data": {
      "image/png": "[encoded data removed]",
      "text/plain": [
       "<Figure size 640x480 with 1 Axes>"
      ]
     },
     "metadata": {},
     "output_type": "display_data"
    },
    {
     "data": {
      "image/png": "[encoded data removed]",
      "text/plain": [
       "<Figure size 640x480 with 1 Axes>"
      ]
     },
     "metadata": {},
     "output_type": "display_data"
    },
    {
     "data": {
      "image/png": "[encoded data removed]",
      "text/plain": [
       "<Figure size 640x480 with 1 Axes>"
      ]
     },
     "metadata": {},
     "output_type": "display_data"
    },
    {
     "data": {
      "image/png": "[encoded data removed]",
      "text/plain": [
       "<Figure size 640x480 with 1 Axes>"
      ]
     },
     "metadata": {},
     "output_type": "display_data"
    }
   ],
   "source": [
    "nume=[]\n",
    "cate=[]\n",
    "for i in df.columns:\n",
    "    try:\n",
    "        sns.boxplot(df[i])\n",
    "        plt.show()\n",
    "        nume.append(i)\n",
    "    except:\n",
    "        cate.append(i)"
   ]
  },
  {
   "cell_type": "markdown",
   "id": "d66c1a4f",
   "metadata": {},
   "source": [
    "<h3 style=\"color:red\">Bi Variant Analysis</h3>"
   ]
  },
  {
   "cell_type": "code",
   "execution_count": 14,
   "id": "25fb8b8e",
   "metadata": {},
   "outputs": [],
   "source": [
    "# for i in df.columns:\n",
    "#     fig = px.histogram(df, x=i, y=\"price\", hover_data=df.columns)\n",
    "#     fig.show()"
   ]
  },
  {
   "cell_type": "code",
   "execution_count": 15,
   "id": "aa73e829",
   "metadata": {},
   "outputs": [],
   "source": [
    "# for i in df.columns:\n",
    "#     fig = px.histogram(df, x=i, y=\"price\",color=\"price\",hover_data=df.columns)\n",
    "#     fig.show()"
   ]
  },
  {
   "cell_type": "code",
   "execution_count": 16,
   "id": "822b8523",
   "metadata": {},
   "outputs": [],
   "source": [
    "# for i in df.columns:\n",
    "#     fig = px.histogram(df, x=i, y=\"price\",color=i,hover_data=df.columns)\n",
    "#     fig.show()"
   ]
  },
  {
   "cell_type": "code",
   "execution_count": 17,
   "id": "c78ed5a8",
   "metadata": {},
   "outputs": [],
   "source": [
    "# for i in df.columns:\n",
    "#     try:\n",
    "#         sns.scatterplot(df[i],y=df[\"price\"])\n",
    "#         plt.show()\n",
    "#     except:\n",
    "#         pass"
   ]
  },
  {
   "cell_type": "code",
   "execution_count": 18,
   "id": "d20cc5de",
   "metadata": {},
   "outputs": [],
   "source": [
    "# plt.figure(figsize=(20,10))\n",
    "# sns.heatmap(df.corr(),annot=True,cmap=\"PiYG\")\n",
    "# plt.show()"
   ]
  },
  {
   "cell_type": "code",
   "execution_count": 19,
   "id": "91c26302",
   "metadata": {},
   "outputs": [
    {
     "data": {
      "text/plain": [
       "Index(['Id', 'year', 'brand', 'full_model_name', 'model_name', 'price',\n",
       "       'distance_travelled(kms)', 'fuel_type', 'city', 'brand_rank', 'car_age',\n",
       "       'distance below 30k km', 'new and less used', 'inv_car_price',\n",
       "       'inv_car_dist', 'inv_car_age', 'inv_brand', 'std_invprice',\n",
       "       'std_invdistance_travelled', 'std_invrank', 'best_buy1', 'best_buy2'],\n",
       "      dtype='object')"
      ]
     },
     "execution_count": 19,
     "metadata": {},
     "output_type": "execute_result"
    }
   ],
   "source": [
    "df.columns"
   ]
  },
  {
   "cell_type": "code",
   "execution_count": 20,
   "id": "4122a1da",
   "metadata": {},
   "outputs": [],
   "source": [
    "df.drop(columns=['best_buy2','inv_brand','distance below 30k km','brand_rank','Id'],inplace=True)"
   ]
  },
  {
   "cell_type": "code",
   "execution_count": 21,
   "id": "8f4bce1e",
   "metadata": {},
   "outputs": [
    {
     "data": {
      "text/plain": [
       "Index(['year', 'brand', 'full_model_name', 'model_name', 'price',\n",
       "       'distance_travelled(kms)', 'fuel_type', 'city', 'car_age',\n",
       "       'new and less used', 'inv_car_price', 'inv_car_dist', 'inv_car_age',\n",
       "       'std_invprice', 'std_invdistance_travelled', 'std_invrank',\n",
       "       'best_buy1'],\n",
       "      dtype='object')"
      ]
     },
     "execution_count": 21,
     "metadata": {},
     "output_type": "execute_result"
    }
   ],
   "source": [
    "df.columns"
   ]
  },
  {
   "cell_type": "code",
   "execution_count": 22,
   "id": "4e4e8685",
   "metadata": {},
   "outputs": [
    {
     "data": {
      "text/plain": [
       "['brand', 'full_model_name', 'model_name', 'fuel_type', 'city']"
      ]
     },
     "execution_count": 22,
     "metadata": {},
     "output_type": "execute_result"
    }
   ],
   "source": [
    "cate"
   ]
  },
  {
   "cell_type": "code",
   "execution_count": 23,
   "id": "789ecd00",
   "metadata": {},
   "outputs": [
    {
     "data": {
      "text/plain": [
       "['Id',\n",
       " 'year',\n",
       " 'price',\n",
       " 'distance_travelled(kms)',\n",
       " 'brand_rank',\n",
       " 'car_age',\n",
       " 'distance below 30k km',\n",
       " 'new and less used',\n",
       " 'inv_car_price',\n",
       " 'inv_car_dist',\n",
       " 'inv_car_age',\n",
       " 'inv_brand',\n",
       " 'std_invprice',\n",
       " 'std_invdistance_travelled',\n",
       " 'std_invrank',\n",
       " 'best_buy1',\n",
       " 'best_buy2']"
      ]
     },
     "execution_count": 23,
     "metadata": {},
     "output_type": "execute_result"
    }
   ],
   "source": [
    "nume"
   ]
  },
  {
   "cell_type": "code",
   "execution_count": 24,
   "id": "80902c1f",
   "metadata": {},
   "outputs": [
    {
     "name": "stdout",
     "output_type": "stream",
     "text": [
      "brand ::  contains ::  31 of Unique vallues\n",
      "full_model_name ::  contains ::  741 of Unique vallues\n",
      "model_name ::  contains ::  169 of Unique vallues\n",
      "fuel_type ::  contains ::  4 of Unique vallues\n",
      "city ::  contains ::  15 of Unique vallues\n"
     ]
    }
   ],
   "source": [
    "for i in cate:\n",
    "    x = df[i].nunique()\n",
    "    print(\"{} ::  contains ::  {} of Unique vallues\".format(i,x))"
   ]
  },
  {
   "cell_type": "code",
   "execution_count": 25,
   "id": "3395e049",
   "metadata": {},
   "outputs": [],
   "source": [
    "df.drop(\"full_model_name\",axis=1,inplace=True)"
   ]
  },
  {
   "cell_type": "code",
   "execution_count": 26,
   "id": "2feba78f",
   "metadata": {},
   "outputs": [
    {
     "data": {
      "text/html": [
       "<div>\n",
       "<style scoped>\n",
       "    .dataframe tbody tr th:only-of-type {\n",
       "        vertical-align: middle;\n",
       "    }\n",
       "\n",
       "    .dataframe tbody tr th {\n",
       "        vertical-align: top;\n",
       "    }\n",
       "\n",
       "    .dataframe thead th {\n",
       "        text-align: right;\n",
       "    }\n",
       "</style>\n",
       "<table border=\"1\" class=\"dataframe\">\n",
       "  <thead>\n",
       "    <tr style=\"text-align: right;\">\n",
       "      <th></th>\n",
       "      <th>year</th>\n",
       "      <th>brand</th>\n",
       "      <th>model_name</th>\n",
       "      <th>price</th>\n",
       "      <th>distance_travelled(kms)</th>\n",
       "      <th>fuel_type</th>\n",
       "      <th>city</th>\n",
       "      <th>car_age</th>\n",
       "      <th>new and less used</th>\n",
       "      <th>inv_car_price</th>\n",
       "      <th>inv_car_dist</th>\n",
       "      <th>inv_car_age</th>\n",
       "      <th>std_invprice</th>\n",
       "      <th>std_invdistance_travelled</th>\n",
       "      <th>std_invrank</th>\n",
       "      <th>best_buy1</th>\n",
       "    </tr>\n",
       "  </thead>\n",
       "  <tbody>\n",
       "    <tr>\n",
       "      <th>0</th>\n",
       "      <td>2016</td>\n",
       "      <td>Honda</td>\n",
       "      <td>Brio</td>\n",
       "      <td>425000.0</td>\n",
       "      <td>9680.0</td>\n",
       "      <td>Petrol</td>\n",
       "      <td>Mumbai</td>\n",
       "      <td>5.0</td>\n",
       "      <td>0</td>\n",
       "      <td>0.000002</td>\n",
       "      <td>0.000103</td>\n",
       "      <td>0.200000</td>\n",
       "      <td>0.143417</td>\n",
       "      <td>0.035730</td>\n",
       "      <td>0.132143</td>\n",
       "      <td>677.134239</td>\n",
       "    </tr>\n",
       "    <tr>\n",
       "      <th>1</th>\n",
       "      <td>2012</td>\n",
       "      <td>Nissan</td>\n",
       "      <td>Sunny</td>\n",
       "      <td>325000.0</td>\n",
       "      <td>119120.0</td>\n",
       "      <td>Diesel</td>\n",
       "      <td>Mumbai</td>\n",
       "      <td>9.0</td>\n",
       "      <td>0</td>\n",
       "      <td>0.000003</td>\n",
       "      <td>0.000008</td>\n",
       "      <td>0.111111</td>\n",
       "      <td>0.188859</td>\n",
       "      <td>0.002496</td>\n",
       "      <td>0.079545</td>\n",
       "      <td>37.501318</td>\n",
       "    </tr>\n",
       "  </tbody>\n",
       "</table>\n",
       "</div>"
      ],
      "text/plain": [
       "   year   brand model_name     price  distance_travelled(kms) fuel_type  \\\n",
       "0  2016   Honda       Brio  425000.0                   9680.0    Petrol   \n",
       "1  2012  Nissan      Sunny  325000.0                 119120.0    Diesel   \n",
       "\n",
       "     city  car_age  new and less used  inv_car_price  inv_car_dist  \\\n",
       "0  Mumbai      5.0                  0       0.000002      0.000103   \n",
       "1  Mumbai      9.0                  0       0.000003      0.000008   \n",
       "\n",
       "   inv_car_age  std_invprice  std_invdistance_travelled  std_invrank  \\\n",
       "0     0.200000      0.143417                   0.035730     0.132143   \n",
       "1     0.111111      0.188859                   0.002496     0.079545   \n",
       "\n",
       "    best_buy1  \n",
       "0  677.134239  \n",
       "1   37.501318  "
      ]
     },
     "execution_count": 26,
     "metadata": {},
     "output_type": "execute_result"
    }
   ],
   "source": [
    "df.head(2)"
   ]
  },
  {
   "cell_type": "code",
   "execution_count": 27,
   "id": "9ca616b1",
   "metadata": {},
   "outputs": [
    {
     "data": {
      "text/plain": [
       "Index(['year', 'brand', 'model_name', 'price', 'distance_travelled(kms)',\n",
       "       'fuel_type', 'city', 'car_age', 'new and less used', 'inv_car_price',\n",
       "       'inv_car_dist', 'inv_car_age', 'std_invprice',\n",
       "       'std_invdistance_travelled', 'std_invrank', 'best_buy1'],\n",
       "      dtype='object')"
      ]
     },
     "execution_count": 27,
     "metadata": {},
     "output_type": "execute_result"
    }
   ],
   "source": [
    "df.columns"
   ]
  },
  {
   "cell_type": "code",
   "execution_count": 28,
   "id": "640fb415",
   "metadata": {},
   "outputs": [
    {
     "data": {
      "image/png": "[encoded data removed]",
      "text/plain": [
       "<Figure size 640x480 with 1 Axes>"
      ]
     },
     "metadata": {},
     "output_type": "display_data"
    },
    {
     "data": {
      "image/png": "[encoded data removed]",
      "text/plain": [
       "<Figure size 640x480 with 1 Axes>"
      ]
     },
     "metadata": {},
     "output_type": "display_data"
    },
    {
     "data": {
      "image/png": "[encoded data removed]",
      "text/plain": [
       "<Figure size 640x480 with 1 Axes>"
      ]
     },
     "metadata": {},
     "output_type": "display_data"
    },
    {
     "data": {
      "image/png": "[encoded data removed]",
      "text/plain": [
       "<Figure size 640x480 with 1 Axes>"
      ]
     },
     "metadata": {},
     "output_type": "display_data"
    },
    {
     "data": {
      "image/png": "[encoded data removed]",
      "text/plain": [
       "<Figure size 640x480 with 1 Axes>"
      ]
     },
     "metadata": {},
     "output_type": "display_data"
    },
    {
     "data": {
      "image/png": "[encoded data removed]",
      "text/plain": [
       "<Figure size 640x480 with 1 Axes>"
      ]
     },
     "metadata": {},
     "output_type": "display_data"
    },
    {
     "data": {
      "image/png": "[encoded data removed]",
      "text/plain": [
       "<Figure size 640x480 with 1 Axes>"
      ]
     },
     "metadata": {},
     "output_type": "display_data"
    },
    {
     "data": {
      "image/png": "[encoded data removed]",
      "text/plain": [
       "<Figure size 640x480 with 1 Axes>"
      ]
     },
     "metadata": {},
     "output_type": "display_data"
    },
    {
     "data": {
      "image/png": "[encoded data removed]",
      "text/plain": [
       "<Figure size 640x480 with 1 Axes>"
      ]
     },
     "metadata": {},
     "output_type": "display_data"
    },
    {
     "data": {
      "image/png": "[encoded data removed]",
      "text/plain": [
       "<Figure size 640x480 with 1 Axes>"
      ]
     },
     "metadata": {},
     "output_type": "display_data"
    },
    {
     "data": {
      "image/png": "[encoded data removed]",
      "text/plain": [
       "<Figure size 640x480 with 1 Axes>"
      ]
     },
     "metadata": {},
     "output_type": "display_data"
    },
    {
     "data": {
      "image/png": "[encoded data removed]",
      "text/plain": [
       "<Figure size 640x480 with 1 Axes>"
      ]
     },
     "metadata": {},
     "output_type": "display_data"
    }
   ],
   "source": [
    "nume=[]\n",
    "cate=[]\n",
    "for i in df.columns:\n",
    "    try:\n",
    "        sns.boxplot(df[i])\n",
    "        plt.show()\n",
    "        nume.append(i)\n",
    "    except:\n",
    "        cate.append(i)"
   ]
  },
  {
   "cell_type": "code",
   "execution_count": 29,
   "id": "64cf8bca",
   "metadata": {},
   "outputs": [
    {
     "data": {
      "text/plain": [
       "['brand', 'model_name', 'fuel_type', 'city']"
      ]
     },
     "execution_count": 29,
     "metadata": {},
     "output_type": "execute_result"
    }
   ],
   "source": [
    "cate"
   ]
  },
  {
   "cell_type": "code",
   "execution_count": 30,
   "id": "a1ee464a",
   "metadata": {},
   "outputs": [
    {
     "data": {
      "text/plain": [
       "['year',\n",
       " 'price',\n",
       " 'distance_travelled(kms)',\n",
       " 'car_age',\n",
       " 'new and less used',\n",
       " 'inv_car_price',\n",
       " 'inv_car_dist',\n",
       " 'inv_car_age',\n",
       " 'std_invprice',\n",
       " 'std_invdistance_travelled',\n",
       " 'std_invrank',\n",
       " 'best_buy1']"
      ]
     },
     "execution_count": 30,
     "metadata": {},
     "output_type": "execute_result"
    }
   ],
   "source": [
    "nume"
   ]
  },
  {
   "cell_type": "code",
   "execution_count": 31,
   "id": "9d87b7dd",
   "metadata": {},
   "outputs": [],
   "source": [
    "df=df[['brand', 'model_name', 'fuel_type', 'city','year',\n",
    " 'price',\n",
    " 'distance_travelled(kms)',\n",
    " 'car_age',\n",
    " 'new and less used',\n",
    " 'inv_car_price',\n",
    " 'inv_car_dist',\n",
    " 'inv_car_age',\n",
    " 'std_invprice',\n",
    " 'std_invdistance_travelled',\n",
    " 'std_invrank',\n",
    " 'best_buy1']]"
   ]
  },
  {
   "cell_type": "code",
   "execution_count": 32,
   "id": "10ebd9db",
   "metadata": {},
   "outputs": [
    {
     "data": {
      "text/html": [
       "<div>\n",
       "<style scoped>\n",
       "    .dataframe tbody tr th:only-of-type {\n",
       "        vertical-align: middle;\n",
       "    }\n",
       "\n",
       "    .dataframe tbody tr th {\n",
       "        vertical-align: top;\n",
       "    }\n",
       "\n",
       "    .dataframe thead th {\n",
       "        text-align: right;\n",
       "    }\n",
       "</style>\n",
       "<table border=\"1\" class=\"dataframe\">\n",
       "  <thead>\n",
       "    <tr style=\"text-align: right;\">\n",
       "      <th></th>\n",
       "      <th>brand</th>\n",
       "      <th>model_name</th>\n",
       "      <th>fuel_type</th>\n",
       "      <th>city</th>\n",
       "      <th>year</th>\n",
       "      <th>price</th>\n",
       "      <th>distance_travelled(kms)</th>\n",
       "      <th>car_age</th>\n",
       "      <th>new and less used</th>\n",
       "      <th>inv_car_price</th>\n",
       "      <th>inv_car_dist</th>\n",
       "      <th>inv_car_age</th>\n",
       "      <th>std_invprice</th>\n",
       "      <th>std_invdistance_travelled</th>\n",
       "      <th>std_invrank</th>\n",
       "      <th>best_buy1</th>\n",
       "    </tr>\n",
       "  </thead>\n",
       "  <tbody>\n",
       "    <tr>\n",
       "      <th>0</th>\n",
       "      <td>Honda</td>\n",
       "      <td>Brio</td>\n",
       "      <td>Petrol</td>\n",
       "      <td>Mumbai</td>\n",
       "      <td>2016</td>\n",
       "      <td>425000.0</td>\n",
       "      <td>9680.0</td>\n",
       "      <td>5.0</td>\n",
       "      <td>0</td>\n",
       "      <td>2.352941e-06</td>\n",
       "      <td>0.000103</td>\n",
       "      <td>0.200000</td>\n",
       "      <td>0.143417</td>\n",
       "      <td>0.035730</td>\n",
       "      <td>0.132143</td>\n",
       "      <td>677.134239</td>\n",
       "    </tr>\n",
       "    <tr>\n",
       "      <th>1</th>\n",
       "      <td>Nissan</td>\n",
       "      <td>Sunny</td>\n",
       "      <td>Diesel</td>\n",
       "      <td>Mumbai</td>\n",
       "      <td>2012</td>\n",
       "      <td>325000.0</td>\n",
       "      <td>119120.0</td>\n",
       "      <td>9.0</td>\n",
       "      <td>0</td>\n",
       "      <td>3.076923e-06</td>\n",
       "      <td>0.000008</td>\n",
       "      <td>0.111111</td>\n",
       "      <td>0.188859</td>\n",
       "      <td>0.002496</td>\n",
       "      <td>0.079545</td>\n",
       "      <td>37.501318</td>\n",
       "    </tr>\n",
       "    <tr>\n",
       "      <th>2</th>\n",
       "      <td>Toyota</td>\n",
       "      <td>Fortuner</td>\n",
       "      <td>Diesel</td>\n",
       "      <td>Thane</td>\n",
       "      <td>2017</td>\n",
       "      <td>2650000.0</td>\n",
       "      <td>64593.0</td>\n",
       "      <td>4.0</td>\n",
       "      <td>0</td>\n",
       "      <td>3.773585e-07</td>\n",
       "      <td>0.000015</td>\n",
       "      <td>0.250000</td>\n",
       "      <td>0.019416</td>\n",
       "      <td>0.004978</td>\n",
       "      <td>1.000000</td>\n",
       "      <td>96.646020</td>\n",
       "    </tr>\n",
       "    <tr>\n",
       "      <th>3</th>\n",
       "      <td>Mercedes-Benz</td>\n",
       "      <td>E-Class</td>\n",
       "      <td>Diesel</td>\n",
       "      <td>Mumbai</td>\n",
       "      <td>2017</td>\n",
       "      <td>4195000.0</td>\n",
       "      <td>25000.0</td>\n",
       "      <td>4.0</td>\n",
       "      <td>1</td>\n",
       "      <td>2.383790e-07</td>\n",
       "      <td>0.000040</td>\n",
       "      <td>0.250000</td>\n",
       "      <td>0.010692</td>\n",
       "      <td>0.013563</td>\n",
       "      <td>0.493750</td>\n",
       "      <td>71.604306</td>\n",
       "    </tr>\n",
       "    <tr>\n",
       "      <th>4</th>\n",
       "      <td>Hyundai</td>\n",
       "      <td>Verna</td>\n",
       "      <td>Diesel</td>\n",
       "      <td>Mumbai</td>\n",
       "      <td>2012</td>\n",
       "      <td>475000.0</td>\n",
       "      <td>23800.0</td>\n",
       "      <td>9.0</td>\n",
       "      <td>0</td>\n",
       "      <td>2.105263e-06</td>\n",
       "      <td>0.000042</td>\n",
       "      <td>0.111111</td>\n",
       "      <td>0.127871</td>\n",
       "      <td>0.014269</td>\n",
       "      <td>0.059821</td>\n",
       "      <td>109.150857</td>\n",
       "    </tr>\n",
       "    <tr>\n",
       "      <th>...</th>\n",
       "      <td>...</td>\n",
       "      <td>...</td>\n",
       "      <td>...</td>\n",
       "      <td>...</td>\n",
       "      <td>...</td>\n",
       "      <td>...</td>\n",
       "      <td>...</td>\n",
       "      <td>...</td>\n",
       "      <td>...</td>\n",
       "      <td>...</td>\n",
       "      <td>...</td>\n",
       "      <td>...</td>\n",
       "      <td>...</td>\n",
       "      <td>...</td>\n",
       "      <td>...</td>\n",
       "      <td>...</td>\n",
       "    </tr>\n",
       "    <tr>\n",
       "      <th>1720</th>\n",
       "      <td>Hyundai</td>\n",
       "      <td>Eon</td>\n",
       "      <td>Petrol</td>\n",
       "      <td>Pune</td>\n",
       "      <td>2015</td>\n",
       "      <td>290000.0</td>\n",
       "      <td>38000.0</td>\n",
       "      <td>6.0</td>\n",
       "      <td>0</td>\n",
       "      <td>3.448276e-06</td>\n",
       "      <td>0.000026</td>\n",
       "      <td>0.166667</td>\n",
       "      <td>0.212168</td>\n",
       "      <td>0.008771</td>\n",
       "      <td>0.059821</td>\n",
       "      <td>111.327773</td>\n",
       "    </tr>\n",
       "    <tr>\n",
       "      <th>1721</th>\n",
       "      <td>Bentley</td>\n",
       "      <td>Continental</td>\n",
       "      <td>Petrol</td>\n",
       "      <td>Pune</td>\n",
       "      <td>2011</td>\n",
       "      <td>7500000.0</td>\n",
       "      <td>36000.0</td>\n",
       "      <td>10.0</td>\n",
       "      <td>0</td>\n",
       "      <td>1.333333e-07</td>\n",
       "      <td>0.000028</td>\n",
       "      <td>0.100000</td>\n",
       "      <td>0.004099</td>\n",
       "      <td>0.009283</td>\n",
       "      <td>0.010511</td>\n",
       "      <td>0.399987</td>\n",
       "    </tr>\n",
       "    <tr>\n",
       "      <th>1722</th>\n",
       "      <td>Mahindra-Renault</td>\n",
       "      <td>Logan</td>\n",
       "      <td>Diesel</td>\n",
       "      <td>Pune</td>\n",
       "      <td>2008</td>\n",
       "      <td>185000.0</td>\n",
       "      <td>142522.0</td>\n",
       "      <td>13.0</td>\n",
       "      <td>0</td>\n",
       "      <td>5.405405e-06</td>\n",
       "      <td>0.000007</td>\n",
       "      <td>0.076923</td>\n",
       "      <td>0.335011</td>\n",
       "      <td>0.002014</td>\n",
       "      <td>0.029687</td>\n",
       "      <td>20.026662</td>\n",
       "    </tr>\n",
       "    <tr>\n",
       "      <th>1723</th>\n",
       "      <td>Mahindra</td>\n",
       "      <td>Jeep</td>\n",
       "      <td>Diesel</td>\n",
       "      <td>Pune</td>\n",
       "      <td>1990</td>\n",
       "      <td>325000.0</td>\n",
       "      <td>18581.0</td>\n",
       "      <td>31.0</td>\n",
       "      <td>0</td>\n",
       "      <td>3.076923e-06</td>\n",
       "      <td>0.000054</td>\n",
       "      <td>0.032258</td>\n",
       "      <td>0.188859</td>\n",
       "      <td>0.018402</td>\n",
       "      <td>0.029687</td>\n",
       "      <td>103.172958</td>\n",
       "    </tr>\n",
       "    <tr>\n",
       "      <th>1724</th>\n",
       "      <td>Hyundai</td>\n",
       "      <td>Creta</td>\n",
       "      <td>Diesel</td>\n",
       "      <td>Pune</td>\n",
       "      <td>2017</td>\n",
       "      <td>1395000.0</td>\n",
       "      <td>31028.0</td>\n",
       "      <td>4.0</td>\n",
       "      <td>0</td>\n",
       "      <td>7.168459e-07</td>\n",
       "      <td>0.000032</td>\n",
       "      <td>0.250000</td>\n",
       "      <td>0.040724</td>\n",
       "      <td>0.010842</td>\n",
       "      <td>0.059821</td>\n",
       "      <td>26.412891</td>\n",
       "    </tr>\n",
       "  </tbody>\n",
       "</table>\n",
       "<p>1704 rows × 16 columns</p>\n",
       "</div>"
      ],
      "text/plain": [
       "                 brand   model_name fuel_type    city  year      price  \\\n",
       "0                Honda         Brio    Petrol  Mumbai  2016   425000.0   \n",
       "1               Nissan        Sunny    Diesel  Mumbai  2012   325000.0   \n",
       "2               Toyota     Fortuner    Diesel   Thane  2017  2650000.0   \n",
       "3        Mercedes-Benz      E-Class    Diesel  Mumbai  2017  4195000.0   \n",
       "4              Hyundai        Verna    Diesel  Mumbai  2012   475000.0   \n",
       "...                ...          ...       ...     ...   ...        ...   \n",
       "1720           Hyundai          Eon    Petrol    Pune  2015   290000.0   \n",
       "1721           Bentley  Continental    Petrol    Pune  2011  7500000.0   \n",
       "1722  Mahindra-Renault        Logan    Diesel    Pune  2008   185000.0   \n",
       "1723          Mahindra         Jeep    Diesel    Pune  1990   325000.0   \n",
       "1724           Hyundai        Creta    Diesel    Pune  2017  1395000.0   \n",
       "\n",
       "      distance_travelled(kms)  car_age  new and less used  inv_car_price  \\\n",
       "0                      9680.0      5.0                  0   2.352941e-06   \n",
       "1                    119120.0      9.0                  0   3.076923e-06   \n",
       "2                     64593.0      4.0                  0   3.773585e-07   \n",
       "3                     25000.0      4.0                  1   2.383790e-07   \n",
       "4                     23800.0      9.0                  0   2.105263e-06   \n",
       "...                       ...      ...                ...            ...   \n",
       "1720                  38000.0      6.0                  0   3.448276e-06   \n",
       "1721                  36000.0     10.0                  0   1.333333e-07   \n",
       "1722                 142522.0     13.0                  0   5.405405e-06   \n",
       "1723                  18581.0     31.0                  0   3.076923e-06   \n",
       "1724                  31028.0      4.0                  0   7.168459e-07   \n",
       "\n",
       "      inv_car_dist  inv_car_age  std_invprice  std_invdistance_travelled  \\\n",
       "0         0.000103     0.200000      0.143417                   0.035730   \n",
       "1         0.000008     0.111111      0.188859                   0.002496   \n",
       "2         0.000015     0.250000      0.019416                   0.004978   \n",
       "3         0.000040     0.250000      0.010692                   0.013563   \n",
       "4         0.000042     0.111111      0.127871                   0.014269   \n",
       "...            ...          ...           ...                        ...   \n",
       "1720      0.000026     0.166667      0.212168                   0.008771   \n",
       "1721      0.000028     0.100000      0.004099                   0.009283   \n",
       "1722      0.000007     0.076923      0.335011                   0.002014   \n",
       "1723      0.000054     0.032258      0.188859                   0.018402   \n",
       "1724      0.000032     0.250000      0.040724                   0.010842   \n",
       "\n",
       "      std_invrank   best_buy1  \n",
       "0        0.132143  677.134239  \n",
       "1        0.079545   37.501318  \n",
       "2        1.000000   96.646020  \n",
       "3        0.493750   71.604306  \n",
       "4        0.059821  109.150857  \n",
       "...           ...         ...  \n",
       "1720     0.059821  111.327773  \n",
       "1721     0.010511    0.399987  \n",
       "1722     0.029687   20.026662  \n",
       "1723     0.029687  103.172958  \n",
       "1724     0.059821   26.412891  \n",
       "\n",
       "[1704 rows x 16 columns]"
      ]
     },
     "execution_count": 32,
     "metadata": {},
     "output_type": "execute_result"
    }
   ],
   "source": [
    "df"
   ]
  },
  {
   "cell_type": "code",
   "execution_count": 33,
   "id": "174f6078",
   "metadata": {},
   "outputs": [],
   "source": [
    "from sklearn.preprocessing import OneHotEncoder"
   ]
  },
  {
   "cell_type": "code",
   "execution_count": 34,
   "id": "7cf84f8a",
   "metadata": {},
   "outputs": [],
   "source": [
    "ohe = OneHotEncoder(handle_unknown='ignore',sparse=False)"
   ]
  },
  {
   "cell_type": "code",
   "execution_count": 35,
   "id": "0cc8c2b6",
   "metadata": {},
   "outputs": [
    {
     "data": {
      "text/html": [
       "<div>\n",
       "<style scoped>\n",
       "    .dataframe tbody tr th:only-of-type {\n",
       "        vertical-align: middle;\n",
       "    }\n",
       "\n",
       "    .dataframe tbody tr th {\n",
       "        vertical-align: top;\n",
       "    }\n",
       "\n",
       "    .dataframe thead th {\n",
       "        text-align: right;\n",
       "    }\n",
       "</style>\n",
       "<table border=\"1\" class=\"dataframe\">\n",
       "  <thead>\n",
       "    <tr style=\"text-align: right;\">\n",
       "      <th></th>\n",
       "      <th>brand</th>\n",
       "      <th>model_name</th>\n",
       "      <th>fuel_type</th>\n",
       "      <th>city</th>\n",
       "    </tr>\n",
       "  </thead>\n",
       "  <tbody>\n",
       "    <tr>\n",
       "      <th>0</th>\n",
       "      <td>Honda</td>\n",
       "      <td>Brio</td>\n",
       "      <td>Petrol</td>\n",
       "      <td>Mumbai</td>\n",
       "    </tr>\n",
       "    <tr>\n",
       "      <th>1</th>\n",
       "      <td>Nissan</td>\n",
       "      <td>Sunny</td>\n",
       "      <td>Diesel</td>\n",
       "      <td>Mumbai</td>\n",
       "    </tr>\n",
       "    <tr>\n",
       "      <th>2</th>\n",
       "      <td>Toyota</td>\n",
       "      <td>Fortuner</td>\n",
       "      <td>Diesel</td>\n",
       "      <td>Thane</td>\n",
       "    </tr>\n",
       "    <tr>\n",
       "      <th>3</th>\n",
       "      <td>Mercedes-Benz</td>\n",
       "      <td>E-Class</td>\n",
       "      <td>Diesel</td>\n",
       "      <td>Mumbai</td>\n",
       "    </tr>\n",
       "    <tr>\n",
       "      <th>4</th>\n",
       "      <td>Hyundai</td>\n",
       "      <td>Verna</td>\n",
       "      <td>Diesel</td>\n",
       "      <td>Mumbai</td>\n",
       "    </tr>\n",
       "    <tr>\n",
       "      <th>...</th>\n",
       "      <td>...</td>\n",
       "      <td>...</td>\n",
       "      <td>...</td>\n",
       "      <td>...</td>\n",
       "    </tr>\n",
       "    <tr>\n",
       "      <th>1720</th>\n",
       "      <td>Hyundai</td>\n",
       "      <td>Eon</td>\n",
       "      <td>Petrol</td>\n",
       "      <td>Pune</td>\n",
       "    </tr>\n",
       "    <tr>\n",
       "      <th>1721</th>\n",
       "      <td>Bentley</td>\n",
       "      <td>Continental</td>\n",
       "      <td>Petrol</td>\n",
       "      <td>Pune</td>\n",
       "    </tr>\n",
       "    <tr>\n",
       "      <th>1722</th>\n",
       "      <td>Mahindra-Renault</td>\n",
       "      <td>Logan</td>\n",
       "      <td>Diesel</td>\n",
       "      <td>Pune</td>\n",
       "    </tr>\n",
       "    <tr>\n",
       "      <th>1723</th>\n",
       "      <td>Mahindra</td>\n",
       "      <td>Jeep</td>\n",
       "      <td>Diesel</td>\n",
       "      <td>Pune</td>\n",
       "    </tr>\n",
       "    <tr>\n",
       "      <th>1724</th>\n",
       "      <td>Hyundai</td>\n",
       "      <td>Creta</td>\n",
       "      <td>Diesel</td>\n",
       "      <td>Pune</td>\n",
       "    </tr>\n",
       "  </tbody>\n",
       "</table>\n",
       "<p>1704 rows × 4 columns</p>\n",
       "</div>"
      ],
      "text/plain": [
       "                 brand   model_name fuel_type    city\n",
       "0                Honda         Brio    Petrol  Mumbai\n",
       "1               Nissan        Sunny    Diesel  Mumbai\n",
       "2               Toyota     Fortuner    Diesel   Thane\n",
       "3        Mercedes-Benz      E-Class    Diesel  Mumbai\n",
       "4              Hyundai        Verna    Diesel  Mumbai\n",
       "...                ...          ...       ...     ...\n",
       "1720           Hyundai          Eon    Petrol    Pune\n",
       "1721           Bentley  Continental    Petrol    Pune\n",
       "1722  Mahindra-Renault        Logan    Diesel    Pune\n",
       "1723          Mahindra         Jeep    Diesel    Pune\n",
       "1724           Hyundai        Creta    Diesel    Pune\n",
       "\n",
       "[1704 rows x 4 columns]"
      ]
     },
     "execution_count": 35,
     "metadata": {},
     "output_type": "execute_result"
    }
   ],
   "source": [
    "df.iloc[:,:4]"
   ]
  },
  {
   "cell_type": "code",
   "execution_count": 36,
   "id": "6cfadd93",
   "metadata": {},
   "outputs": [
    {
     "data": {
      "text/html": [
       "<div>\n",
       "<style scoped>\n",
       "    .dataframe tbody tr th:only-of-type {\n",
       "        vertical-align: middle;\n",
       "    }\n",
       "\n",
       "    .dataframe tbody tr th {\n",
       "        vertical-align: top;\n",
       "    }\n",
       "\n",
       "    .dataframe thead th {\n",
       "        text-align: right;\n",
       "    }\n",
       "</style>\n",
       "<table border=\"1\" class=\"dataframe\">\n",
       "  <thead>\n",
       "    <tr style=\"text-align: right;\">\n",
       "      <th></th>\n",
       "      <th>year</th>\n",
       "      <th>price</th>\n",
       "      <th>distance_travelled(kms)</th>\n",
       "      <th>car_age</th>\n",
       "      <th>new and less used</th>\n",
       "      <th>inv_car_price</th>\n",
       "      <th>inv_car_dist</th>\n",
       "      <th>inv_car_age</th>\n",
       "      <th>std_invprice</th>\n",
       "      <th>std_invdistance_travelled</th>\n",
       "      <th>std_invrank</th>\n",
       "      <th>best_buy1</th>\n",
       "    </tr>\n",
       "  </thead>\n",
       "  <tbody>\n",
       "    <tr>\n",
       "      <th>0</th>\n",
       "      <td>2016</td>\n",
       "      <td>425000.0</td>\n",
       "      <td>9680.0</td>\n",
       "      <td>5.0</td>\n",
       "      <td>0</td>\n",
       "      <td>2.352941e-06</td>\n",
       "      <td>0.000103</td>\n",
       "      <td>0.200000</td>\n",
       "      <td>0.143417</td>\n",
       "      <td>0.035730</td>\n",
       "      <td>0.132143</td>\n",
       "      <td>677.134239</td>\n",
       "    </tr>\n",
       "    <tr>\n",
       "      <th>1</th>\n",
       "      <td>2012</td>\n",
       "      <td>325000.0</td>\n",
       "      <td>119120.0</td>\n",
       "      <td>9.0</td>\n",
       "      <td>0</td>\n",
       "      <td>3.076923e-06</td>\n",
       "      <td>0.000008</td>\n",
       "      <td>0.111111</td>\n",
       "      <td>0.188859</td>\n",
       "      <td>0.002496</td>\n",
       "      <td>0.079545</td>\n",
       "      <td>37.501318</td>\n",
       "    </tr>\n",
       "    <tr>\n",
       "      <th>2</th>\n",
       "      <td>2017</td>\n",
       "      <td>2650000.0</td>\n",
       "      <td>64593.0</td>\n",
       "      <td>4.0</td>\n",
       "      <td>0</td>\n",
       "      <td>3.773585e-07</td>\n",
       "      <td>0.000015</td>\n",
       "      <td>0.250000</td>\n",
       "      <td>0.019416</td>\n",
       "      <td>0.004978</td>\n",
       "      <td>1.000000</td>\n",
       "      <td>96.646020</td>\n",
       "    </tr>\n",
       "    <tr>\n",
       "      <th>3</th>\n",
       "      <td>2017</td>\n",
       "      <td>4195000.0</td>\n",
       "      <td>25000.0</td>\n",
       "      <td>4.0</td>\n",
       "      <td>1</td>\n",
       "      <td>2.383790e-07</td>\n",
       "      <td>0.000040</td>\n",
       "      <td>0.250000</td>\n",
       "      <td>0.010692</td>\n",
       "      <td>0.013563</td>\n",
       "      <td>0.493750</td>\n",
       "      <td>71.604306</td>\n",
       "    </tr>\n",
       "    <tr>\n",
       "      <th>4</th>\n",
       "      <td>2012</td>\n",
       "      <td>475000.0</td>\n",
       "      <td>23800.0</td>\n",
       "      <td>9.0</td>\n",
       "      <td>0</td>\n",
       "      <td>2.105263e-06</td>\n",
       "      <td>0.000042</td>\n",
       "      <td>0.111111</td>\n",
       "      <td>0.127871</td>\n",
       "      <td>0.014269</td>\n",
       "      <td>0.059821</td>\n",
       "      <td>109.150857</td>\n",
       "    </tr>\n",
       "    <tr>\n",
       "      <th>...</th>\n",
       "      <td>...</td>\n",
       "      <td>...</td>\n",
       "      <td>...</td>\n",
       "      <td>...</td>\n",
       "      <td>...</td>\n",
       "      <td>...</td>\n",
       "      <td>...</td>\n",
       "      <td>...</td>\n",
       "      <td>...</td>\n",
       "      <td>...</td>\n",
       "      <td>...</td>\n",
       "      <td>...</td>\n",
       "    </tr>\n",
       "    <tr>\n",
       "      <th>1720</th>\n",
       "      <td>2015</td>\n",
       "      <td>290000.0</td>\n",
       "      <td>38000.0</td>\n",
       "      <td>6.0</td>\n",
       "      <td>0</td>\n",
       "      <td>3.448276e-06</td>\n",
       "      <td>0.000026</td>\n",
       "      <td>0.166667</td>\n",
       "      <td>0.212168</td>\n",
       "      <td>0.008771</td>\n",
       "      <td>0.059821</td>\n",
       "      <td>111.327773</td>\n",
       "    </tr>\n",
       "    <tr>\n",
       "      <th>1721</th>\n",
       "      <td>2011</td>\n",
       "      <td>7500000.0</td>\n",
       "      <td>36000.0</td>\n",
       "      <td>10.0</td>\n",
       "      <td>0</td>\n",
       "      <td>1.333333e-07</td>\n",
       "      <td>0.000028</td>\n",
       "      <td>0.100000</td>\n",
       "      <td>0.004099</td>\n",
       "      <td>0.009283</td>\n",
       "      <td>0.010511</td>\n",
       "      <td>0.399987</td>\n",
       "    </tr>\n",
       "    <tr>\n",
       "      <th>1722</th>\n",
       "      <td>2008</td>\n",
       "      <td>185000.0</td>\n",
       "      <td>142522.0</td>\n",
       "      <td>13.0</td>\n",
       "      <td>0</td>\n",
       "      <td>5.405405e-06</td>\n",
       "      <td>0.000007</td>\n",
       "      <td>0.076923</td>\n",
       "      <td>0.335011</td>\n",
       "      <td>0.002014</td>\n",
       "      <td>0.029687</td>\n",
       "      <td>20.026662</td>\n",
       "    </tr>\n",
       "    <tr>\n",
       "      <th>1723</th>\n",
       "      <td>1990</td>\n",
       "      <td>325000.0</td>\n",
       "      <td>18581.0</td>\n",
       "      <td>31.0</td>\n",
       "      <td>0</td>\n",
       "      <td>3.076923e-06</td>\n",
       "      <td>0.000054</td>\n",
       "      <td>0.032258</td>\n",
       "      <td>0.188859</td>\n",
       "      <td>0.018402</td>\n",
       "      <td>0.029687</td>\n",
       "      <td>103.172958</td>\n",
       "    </tr>\n",
       "    <tr>\n",
       "      <th>1724</th>\n",
       "      <td>2017</td>\n",
       "      <td>1395000.0</td>\n",
       "      <td>31028.0</td>\n",
       "      <td>4.0</td>\n",
       "      <td>0</td>\n",
       "      <td>7.168459e-07</td>\n",
       "      <td>0.000032</td>\n",
       "      <td>0.250000</td>\n",
       "      <td>0.040724</td>\n",
       "      <td>0.010842</td>\n",
       "      <td>0.059821</td>\n",
       "      <td>26.412891</td>\n",
       "    </tr>\n",
       "  </tbody>\n",
       "</table>\n",
       "<p>1704 rows × 12 columns</p>\n",
       "</div>"
      ],
      "text/plain": [
       "      year      price  distance_travelled(kms)  car_age  new and less used  \\\n",
       "0     2016   425000.0                   9680.0      5.0                  0   \n",
       "1     2012   325000.0                 119120.0      9.0                  0   \n",
       "2     2017  2650000.0                  64593.0      4.0                  0   \n",
       "3     2017  4195000.0                  25000.0      4.0                  1   \n",
       "4     2012   475000.0                  23800.0      9.0                  0   \n",
       "...    ...        ...                      ...      ...                ...   \n",
       "1720  2015   290000.0                  38000.0      6.0                  0   \n",
       "1721  2011  7500000.0                  36000.0     10.0                  0   \n",
       "1722  2008   185000.0                 142522.0     13.0                  0   \n",
       "1723  1990   325000.0                  18581.0     31.0                  0   \n",
       "1724  2017  1395000.0                  31028.0      4.0                  0   \n",
       "\n",
       "      inv_car_price  inv_car_dist  inv_car_age  std_invprice  \\\n",
       "0      2.352941e-06      0.000103     0.200000      0.143417   \n",
       "1      3.076923e-06      0.000008     0.111111      0.188859   \n",
       "2      3.773585e-07      0.000015     0.250000      0.019416   \n",
       "3      2.383790e-07      0.000040     0.250000      0.010692   \n",
       "4      2.105263e-06      0.000042     0.111111      0.127871   \n",
       "...             ...           ...          ...           ...   \n",
       "1720   3.448276e-06      0.000026     0.166667      0.212168   \n",
       "1721   1.333333e-07      0.000028     0.100000      0.004099   \n",
       "1722   5.405405e-06      0.000007     0.076923      0.335011   \n",
       "1723   3.076923e-06      0.000054     0.032258      0.188859   \n",
       "1724   7.168459e-07      0.000032     0.250000      0.040724   \n",
       "\n",
       "      std_invdistance_travelled  std_invrank   best_buy1  \n",
       "0                      0.035730     0.132143  677.134239  \n",
       "1                      0.002496     0.079545   37.501318  \n",
       "2                      0.004978     1.000000   96.646020  \n",
       "3                      0.013563     0.493750   71.604306  \n",
       "4                      0.014269     0.059821  109.150857  \n",
       "...                         ...          ...         ...  \n",
       "1720                   0.008771     0.059821  111.327773  \n",
       "1721                   0.009283     0.010511    0.399987  \n",
       "1722                   0.002014     0.029687   20.026662  \n",
       "1723                   0.018402     0.029687  103.172958  \n",
       "1724                   0.010842     0.059821   26.412891  \n",
       "\n",
       "[1704 rows x 12 columns]"
      ]
     },
     "execution_count": 36,
     "metadata": {},
     "output_type": "execute_result"
    }
   ],
   "source": [
    "two_df=df.iloc[:,4:]\n",
    "two_df"
   ]
  },
  {
   "cell_type": "code",
   "execution_count": 37,
   "id": "aa603d13",
   "metadata": {},
   "outputs": [
    {
     "data": {
      "text/plain": [
       "array([[0., 0., 0., ..., 0., 0., 0.],\n",
       "       [0., 0., 0., ..., 0., 0., 0.],\n",
       "       [0., 0., 0., ..., 0., 0., 1.],\n",
       "       ...,\n",
       "       [0., 0., 0., ..., 0., 1., 0.],\n",
       "       [0., 0., 0., ..., 0., 1., 0.],\n",
       "       [0., 0., 0., ..., 0., 1., 0.]])"
      ]
     },
     "execution_count": 37,
     "metadata": {},
     "output_type": "execute_result"
    }
   ],
   "source": [
    "lis=ohe.fit_transform(df.iloc[:,:4])\n",
    "lis"
   ]
  },
  {
   "cell_type": "code",
   "execution_count": 38,
   "id": "8f92d3e4",
   "metadata": {},
   "outputs": [
    {
     "data": {
      "text/plain": [
       "array(['brand_Audi', 'brand_BMW', 'brand_Bentley', 'brand_Chevrolet',\n",
       "       'brand_Datsun', 'brand_Fiat', 'brand_Ford', 'brand_Honda',\n",
       "       'brand_Hyundai', 'brand_Isuzu', 'brand_Jaguar', 'brand_Jeep',\n",
       "       'brand_Kia', 'brand_Lamborghini', 'brand_Land Rover',\n",
       "       'brand_Lexus', 'brand_MG', 'brand_MINI', 'brand_Mahindra',\n",
       "       'brand_Mahindra-Renault', 'brand_Maruti Suzuki',\n",
       "       'brand_Mercedes-Benz', 'brand_Mitsubishi', 'brand_Nissan',\n",
       "       'brand_Porsche', 'brand_Renault', 'brand_Skoda', 'brand_Tata',\n",
       "       'brand_Toyota', 'brand_Volkswagen', 'brand_Volvo', 'model_name_3',\n",
       "       'model_name_3.0', 'model_name_4.4', 'model_name_5', 'model_name_6',\n",
       "       'model_name_7', 'model_name_718', 'model_name_A-Class',\n",
       "       'model_name_A-Star', 'model_name_A3', 'model_name_A4',\n",
       "       'model_name_A6', 'model_name_A8', 'model_name_Abarth',\n",
       "       'model_name_Accord', 'model_name_Alto', 'model_name_Altroz',\n",
       "       'model_name_Alturas', 'model_name_Amaze', 'model_name_Ameo',\n",
       "       'model_name_Aria', 'model_name_Aspire', 'model_name_Avventura',\n",
       "       'model_name_B-Class', 'model_name_BR-V', 'model_name_Baleno',\n",
       "       'model_name_Beat', 'model_name_Bolero', 'model_name_Brio',\n",
       "       'model_name_C-Class', 'model_name_CLA', 'model_name_CLS',\n",
       "       'model_name_CR-V', 'model_name_Camry', 'model_name_Captur',\n",
       "       'model_name_Cayenne', 'model_name_Celerio', 'model_name_Ciaz',\n",
       "       'model_name_City', 'model_name_Civic', 'model_name_Compass',\n",
       "       'model_name_Continental', 'model_name_Cooper',\n",
       "       'model_name_Corolla', 'model_name_Countryman', 'model_name_Creta',\n",
       "       'model_name_Cross', 'model_name_Cruze', 'model_name_Discovery',\n",
       "       'model_name_Duster', 'model_name_Dzire', 'model_name_E-Class',\n",
       "       'model_name_ES', 'model_name_EcoSport', 'model_name_Eeco',\n",
       "       'model_name_Elantra', 'model_name_Elite', 'model_name_Endeavour',\n",
       "       'model_name_Enjoy', 'model_name_Eon', 'model_name_Ertiga',\n",
       "       'model_name_Estilo', 'model_name_Etios', 'model_name_Evoque',\n",
       "       'model_name_F-Pace', 'model_name_Fabia', 'model_name_Fiesta',\n",
       "       'model_name_Figo', 'model_name_Fluidic', 'model_name_Fortuner',\n",
       "       'model_name_Freelander', 'model_name_Freestyle',\n",
       "       'model_name_G-Class', 'model_name_GL', 'model_name_GLA',\n",
       "       'model_name_GLC', 'model_name_GLE', 'model_name_GLS',\n",
       "       'model_name_GO', 'model_name_Gallardo', 'model_name_Glanza',\n",
       "       'model_name_Grand', 'model_name_Harrier', 'model_name_Hector',\n",
       "       'model_name_Hexa', 'model_name_Ignis', 'model_name_Indica',\n",
       "       'model_name_Innova', 'model_name_Jazz', 'model_name_Jeep',\n",
       "       'model_name_Jetta', 'model_name_KUV100', 'model_name_Kwid',\n",
       "       'model_name_Land', 'model_name_Laura', 'model_name_Lodgy',\n",
       "       'model_name_Logan', 'model_name_M-Class', 'model_name_MU-X',\n",
       "       'model_name_Micra', 'model_name_Mustang', 'model_name_NX',\n",
       "       'model_name_Nano', 'model_name_Nexon', 'model_name_Octavia',\n",
       "       'model_name_Outlander', 'model_name_Pajero', 'model_name_Passat',\n",
       "       'model_name_Polo', 'model_name_Pulse', 'model_name_Q3',\n",
       "       'model_name_Q5', 'model_name_Q7', 'model_name_Qualis',\n",
       "       'model_name_Quanto', 'model_name_Rapid', 'model_name_Ritz',\n",
       "       'model_name_S-Class', 'model_name_S-Cross', 'model_name_S60',\n",
       "       'model_name_S90', 'model_name_SLK', 'model_name_SX4',\n",
       "       'model_name_Safari', 'model_name_Santro', 'model_name_Scorpio',\n",
       "       'model_name_Seltos', 'model_name_Sonet', 'model_name_Sport',\n",
       "       'model_name_Sunny', 'model_name_Superb', 'model_name_Swift',\n",
       "       'model_name_TUV300', 'model_name_Terrano', 'model_name_Thar',\n",
       "       'model_name_Tiago', 'model_name_Tigor', 'model_name_Tiguan',\n",
       "       'model_name_Triber', 'model_name_Tucson', 'model_name_V40',\n",
       "       'model_name_Vento', 'model_name_Venue', 'model_name_Verito',\n",
       "       'model_name_Verna', 'model_name_Vitara', 'model_name_WR-V',\n",
       "       'model_name_Wagon', 'model_name_X1', 'model_name_X3',\n",
       "       'model_name_X4', 'model_name_X5', 'model_name_X7',\n",
       "       'model_name_XC60', 'model_name_XC90', 'model_name_XE',\n",
       "       'model_name_XF', 'model_name_XJ', 'model_name_XL6',\n",
       "       'model_name_XUV300', 'model_name_XUV500', 'model_name_Xcent',\n",
       "       'model_name_Yaris', 'model_name_Yeti', 'model_name_Z4',\n",
       "       'model_name_Zest', 'model_name_i10', 'model_name_i20',\n",
       "       'model_name_redi-GO', 'fuel_type_CNG + 1', 'fuel_type_Diesel',\n",
       "       'fuel_type_Petrol', 'fuel_type_Petrol + 1', 'city_Agra',\n",
       "       'city_Bangalore', 'city_Chennai', 'city_Dehradun', 'city_Delhi',\n",
       "       'city_Faridabad', 'city_Ghaziabad', 'city_Hyderabad',\n",
       "       'city_Lucknow', 'city_Mumbai', 'city_Navi Mumbai', 'city_Noida',\n",
       "       'city_Panchkula', 'city_Pune', 'city_Thane'], dtype=object)"
      ]
     },
     "execution_count": 38,
     "metadata": {},
     "output_type": "execute_result"
    }
   ],
   "source": [
    "col=ohe.get_feature_names_out()\n",
    "col"
   ]
  },
  {
   "cell_type": "code",
   "execution_count": 39,
   "id": "e5adc5a9",
   "metadata": {},
   "outputs": [
    {
     "data": {
      "text/html": [
       "<div>\n",
       "<style scoped>\n",
       "    .dataframe tbody tr th:only-of-type {\n",
       "        vertical-align: middle;\n",
       "    }\n",
       "\n",
       "    .dataframe tbody tr th {\n",
       "        vertical-align: top;\n",
       "    }\n",
       "\n",
       "    .dataframe thead th {\n",
       "        text-align: right;\n",
       "    }\n",
       "</style>\n",
       "<table border=\"1\" class=\"dataframe\">\n",
       "  <thead>\n",
       "    <tr style=\"text-align: right;\">\n",
       "      <th></th>\n",
       "      <th>brand_Audi</th>\n",
       "      <th>brand_BMW</th>\n",
       "      <th>brand_Bentley</th>\n",
       "      <th>brand_Chevrolet</th>\n",
       "      <th>brand_Datsun</th>\n",
       "      <th>brand_Fiat</th>\n",
       "      <th>brand_Ford</th>\n",
       "      <th>brand_Honda</th>\n",
       "      <th>brand_Hyundai</th>\n",
       "      <th>brand_Isuzu</th>\n",
       "      <th>...</th>\n",
       "      <th>city_Faridabad</th>\n",
       "      <th>city_Ghaziabad</th>\n",
       "      <th>city_Hyderabad</th>\n",
       "      <th>city_Lucknow</th>\n",
       "      <th>city_Mumbai</th>\n",
       "      <th>city_Navi Mumbai</th>\n",
       "      <th>city_Noida</th>\n",
       "      <th>city_Panchkula</th>\n",
       "      <th>city_Pune</th>\n",
       "      <th>city_Thane</th>\n",
       "    </tr>\n",
       "  </thead>\n",
       "  <tbody>\n",
       "    <tr>\n",
       "      <th>0</th>\n",
       "      <td>0.0</td>\n",
       "      <td>0.0</td>\n",
       "      <td>0.0</td>\n",
       "      <td>0.0</td>\n",
       "      <td>0.0</td>\n",
       "      <td>0.0</td>\n",
       "      <td>0.0</td>\n",
       "      <td>1.0</td>\n",
       "      <td>0.0</td>\n",
       "      <td>0.0</td>\n",
       "      <td>...</td>\n",
       "      <td>0.0</td>\n",
       "      <td>0.0</td>\n",
       "      <td>0.0</td>\n",
       "      <td>0.0</td>\n",
       "      <td>1.0</td>\n",
       "      <td>0.0</td>\n",
       "      <td>0.0</td>\n",
       "      <td>0.0</td>\n",
       "      <td>0.0</td>\n",
       "      <td>0.0</td>\n",
       "    </tr>\n",
       "    <tr>\n",
       "      <th>1</th>\n",
       "      <td>0.0</td>\n",
       "      <td>0.0</td>\n",
       "      <td>0.0</td>\n",
       "      <td>0.0</td>\n",
       "      <td>0.0</td>\n",
       "      <td>0.0</td>\n",
       "      <td>0.0</td>\n",
       "      <td>0.0</td>\n",
       "      <td>0.0</td>\n",
       "      <td>0.0</td>\n",
       "      <td>...</td>\n",
       "      <td>0.0</td>\n",
       "      <td>0.0</td>\n",
       "      <td>0.0</td>\n",
       "      <td>0.0</td>\n",
       "      <td>1.0</td>\n",
       "      <td>0.0</td>\n",
       "      <td>0.0</td>\n",
       "      <td>0.0</td>\n",
       "      <td>0.0</td>\n",
       "      <td>0.0</td>\n",
       "    </tr>\n",
       "    <tr>\n",
       "      <th>2</th>\n",
       "      <td>0.0</td>\n",
       "      <td>0.0</td>\n",
       "      <td>0.0</td>\n",
       "      <td>0.0</td>\n",
       "      <td>0.0</td>\n",
       "      <td>0.0</td>\n",
       "      <td>0.0</td>\n",
       "      <td>0.0</td>\n",
       "      <td>0.0</td>\n",
       "      <td>0.0</td>\n",
       "      <td>...</td>\n",
       "      <td>0.0</td>\n",
       "      <td>0.0</td>\n",
       "      <td>0.0</td>\n",
       "      <td>0.0</td>\n",
       "      <td>0.0</td>\n",
       "      <td>0.0</td>\n",
       "      <td>0.0</td>\n",
       "      <td>0.0</td>\n",
       "      <td>0.0</td>\n",
       "      <td>1.0</td>\n",
       "    </tr>\n",
       "    <tr>\n",
       "      <th>3</th>\n",
       "      <td>0.0</td>\n",
       "      <td>0.0</td>\n",
       "      <td>0.0</td>\n",
       "      <td>0.0</td>\n",
       "      <td>0.0</td>\n",
       "      <td>0.0</td>\n",
       "      <td>0.0</td>\n",
       "      <td>0.0</td>\n",
       "      <td>0.0</td>\n",
       "      <td>0.0</td>\n",
       "      <td>...</td>\n",
       "      <td>0.0</td>\n",
       "      <td>0.0</td>\n",
       "      <td>0.0</td>\n",
       "      <td>0.0</td>\n",
       "      <td>1.0</td>\n",
       "      <td>0.0</td>\n",
       "      <td>0.0</td>\n",
       "      <td>0.0</td>\n",
       "      <td>0.0</td>\n",
       "      <td>0.0</td>\n",
       "    </tr>\n",
       "    <tr>\n",
       "      <th>4</th>\n",
       "      <td>0.0</td>\n",
       "      <td>0.0</td>\n",
       "      <td>0.0</td>\n",
       "      <td>0.0</td>\n",
       "      <td>0.0</td>\n",
       "      <td>0.0</td>\n",
       "      <td>0.0</td>\n",
       "      <td>0.0</td>\n",
       "      <td>1.0</td>\n",
       "      <td>0.0</td>\n",
       "      <td>...</td>\n",
       "      <td>0.0</td>\n",
       "      <td>0.0</td>\n",
       "      <td>0.0</td>\n",
       "      <td>0.0</td>\n",
       "      <td>1.0</td>\n",
       "      <td>0.0</td>\n",
       "      <td>0.0</td>\n",
       "      <td>0.0</td>\n",
       "      <td>0.0</td>\n",
       "      <td>0.0</td>\n",
       "    </tr>\n",
       "    <tr>\n",
       "      <th>...</th>\n",
       "      <td>...</td>\n",
       "      <td>...</td>\n",
       "      <td>...</td>\n",
       "      <td>...</td>\n",
       "      <td>...</td>\n",
       "      <td>...</td>\n",
       "      <td>...</td>\n",
       "      <td>...</td>\n",
       "      <td>...</td>\n",
       "      <td>...</td>\n",
       "      <td>...</td>\n",
       "      <td>...</td>\n",
       "      <td>...</td>\n",
       "      <td>...</td>\n",
       "      <td>...</td>\n",
       "      <td>...</td>\n",
       "      <td>...</td>\n",
       "      <td>...</td>\n",
       "      <td>...</td>\n",
       "      <td>...</td>\n",
       "      <td>...</td>\n",
       "    </tr>\n",
       "    <tr>\n",
       "      <th>1699</th>\n",
       "      <td>0.0</td>\n",
       "      <td>0.0</td>\n",
       "      <td>0.0</td>\n",
       "      <td>0.0</td>\n",
       "      <td>0.0</td>\n",
       "      <td>0.0</td>\n",
       "      <td>0.0</td>\n",
       "      <td>0.0</td>\n",
       "      <td>1.0</td>\n",
       "      <td>0.0</td>\n",
       "      <td>...</td>\n",
       "      <td>0.0</td>\n",
       "      <td>0.0</td>\n",
       "      <td>0.0</td>\n",
       "      <td>0.0</td>\n",
       "      <td>0.0</td>\n",
       "      <td>0.0</td>\n",
       "      <td>0.0</td>\n",
       "      <td>0.0</td>\n",
       "      <td>1.0</td>\n",
       "      <td>0.0</td>\n",
       "    </tr>\n",
       "    <tr>\n",
       "      <th>1700</th>\n",
       "      <td>0.0</td>\n",
       "      <td>0.0</td>\n",
       "      <td>1.0</td>\n",
       "      <td>0.0</td>\n",
       "      <td>0.0</td>\n",
       "      <td>0.0</td>\n",
       "      <td>0.0</td>\n",
       "      <td>0.0</td>\n",
       "      <td>0.0</td>\n",
       "      <td>0.0</td>\n",
       "      <td>...</td>\n",
       "      <td>0.0</td>\n",
       "      <td>0.0</td>\n",
       "      <td>0.0</td>\n",
       "      <td>0.0</td>\n",
       "      <td>0.0</td>\n",
       "      <td>0.0</td>\n",
       "      <td>0.0</td>\n",
       "      <td>0.0</td>\n",
       "      <td>1.0</td>\n",
       "      <td>0.0</td>\n",
       "    </tr>\n",
       "    <tr>\n",
       "      <th>1701</th>\n",
       "      <td>0.0</td>\n",
       "      <td>0.0</td>\n",
       "      <td>0.0</td>\n",
       "      <td>0.0</td>\n",
       "      <td>0.0</td>\n",
       "      <td>0.0</td>\n",
       "      <td>0.0</td>\n",
       "      <td>0.0</td>\n",
       "      <td>0.0</td>\n",
       "      <td>0.0</td>\n",
       "      <td>...</td>\n",
       "      <td>0.0</td>\n",
       "      <td>0.0</td>\n",
       "      <td>0.0</td>\n",
       "      <td>0.0</td>\n",
       "      <td>0.0</td>\n",
       "      <td>0.0</td>\n",
       "      <td>0.0</td>\n",
       "      <td>0.0</td>\n",
       "      <td>1.0</td>\n",
       "      <td>0.0</td>\n",
       "    </tr>\n",
       "    <tr>\n",
       "      <th>1702</th>\n",
       "      <td>0.0</td>\n",
       "      <td>0.0</td>\n",
       "      <td>0.0</td>\n",
       "      <td>0.0</td>\n",
       "      <td>0.0</td>\n",
       "      <td>0.0</td>\n",
       "      <td>0.0</td>\n",
       "      <td>0.0</td>\n",
       "      <td>0.0</td>\n",
       "      <td>0.0</td>\n",
       "      <td>...</td>\n",
       "      <td>0.0</td>\n",
       "      <td>0.0</td>\n",
       "      <td>0.0</td>\n",
       "      <td>0.0</td>\n",
       "      <td>0.0</td>\n",
       "      <td>0.0</td>\n",
       "      <td>0.0</td>\n",
       "      <td>0.0</td>\n",
       "      <td>1.0</td>\n",
       "      <td>0.0</td>\n",
       "    </tr>\n",
       "    <tr>\n",
       "      <th>1703</th>\n",
       "      <td>0.0</td>\n",
       "      <td>0.0</td>\n",
       "      <td>0.0</td>\n",
       "      <td>0.0</td>\n",
       "      <td>0.0</td>\n",
       "      <td>0.0</td>\n",
       "      <td>0.0</td>\n",
       "      <td>0.0</td>\n",
       "      <td>1.0</td>\n",
       "      <td>0.0</td>\n",
       "      <td>...</td>\n",
       "      <td>0.0</td>\n",
       "      <td>0.0</td>\n",
       "      <td>0.0</td>\n",
       "      <td>0.0</td>\n",
       "      <td>0.0</td>\n",
       "      <td>0.0</td>\n",
       "      <td>0.0</td>\n",
       "      <td>0.0</td>\n",
       "      <td>1.0</td>\n",
       "      <td>0.0</td>\n",
       "    </tr>\n",
       "  </tbody>\n",
       "</table>\n",
       "<p>1704 rows × 219 columns</p>\n",
       "</div>"
      ],
      "text/plain": [
       "      brand_Audi  brand_BMW  brand_Bentley  brand_Chevrolet  brand_Datsun  \\\n",
       "0            0.0        0.0            0.0              0.0           0.0   \n",
       "1            0.0        0.0            0.0              0.0           0.0   \n",
       "2            0.0        0.0            0.0              0.0           0.0   \n",
       "3            0.0        0.0            0.0              0.0           0.0   \n",
       "4            0.0        0.0            0.0              0.0           0.0   \n",
       "...          ...        ...            ...              ...           ...   \n",
       "1699         0.0        0.0            0.0              0.0           0.0   \n",
       "1700         0.0        0.0            1.0              0.0           0.0   \n",
       "1701         0.0        0.0            0.0              0.0           0.0   \n",
       "1702         0.0        0.0            0.0              0.0           0.0   \n",
       "1703         0.0        0.0            0.0              0.0           0.0   \n",
       "\n",
       "      brand_Fiat  brand_Ford  brand_Honda  brand_Hyundai  brand_Isuzu  ...  \\\n",
       "0            0.0         0.0          1.0            0.0          0.0  ...   \n",
       "1            0.0         0.0          0.0            0.0          0.0  ...   \n",
       "2            0.0         0.0          0.0            0.0          0.0  ...   \n",
       "3            0.0         0.0          0.0            0.0          0.0  ...   \n",
       "4            0.0         0.0          0.0            1.0          0.0  ...   \n",
       "...          ...         ...          ...            ...          ...  ...   \n",
       "1699         0.0         0.0          0.0            1.0          0.0  ...   \n",
       "1700         0.0         0.0          0.0            0.0          0.0  ...   \n",
       "1701         0.0         0.0          0.0            0.0          0.0  ...   \n",
       "1702         0.0         0.0          0.0            0.0          0.0  ...   \n",
       "1703         0.0         0.0          0.0            1.0          0.0  ...   \n",
       "\n",
       "      city_Faridabad  city_Ghaziabad  city_Hyderabad  city_Lucknow  \\\n",
       "0                0.0             0.0             0.0           0.0   \n",
       "1                0.0             0.0             0.0           0.0   \n",
       "2                0.0             0.0             0.0           0.0   \n",
       "3                0.0             0.0             0.0           0.0   \n",
       "4                0.0             0.0             0.0           0.0   \n",
       "...              ...             ...             ...           ...   \n",
       "1699             0.0             0.0             0.0           0.0   \n",
       "1700             0.0             0.0             0.0           0.0   \n",
       "1701             0.0             0.0             0.0           0.0   \n",
       "1702             0.0             0.0             0.0           0.0   \n",
       "1703             0.0             0.0             0.0           0.0   \n",
       "\n",
       "      city_Mumbai  city_Navi Mumbai  city_Noida  city_Panchkula  city_Pune  \\\n",
       "0             1.0               0.0         0.0             0.0        0.0   \n",
       "1             1.0               0.0         0.0             0.0        0.0   \n",
       "2             0.0               0.0         0.0             0.0        0.0   \n",
       "3             1.0               0.0         0.0             0.0        0.0   \n",
       "4             1.0               0.0         0.0             0.0        0.0   \n",
       "...           ...               ...         ...             ...        ...   \n",
       "1699          0.0               0.0         0.0             0.0        1.0   \n",
       "1700          0.0               0.0         0.0             0.0        1.0   \n",
       "1701          0.0               0.0         0.0             0.0        1.0   \n",
       "1702          0.0               0.0         0.0             0.0        1.0   \n",
       "1703          0.0               0.0         0.0             0.0        1.0   \n",
       "\n",
       "      city_Thane  \n",
       "0            0.0  \n",
       "1            0.0  \n",
       "2            1.0  \n",
       "3            0.0  \n",
       "4            0.0  \n",
       "...          ...  \n",
       "1699         0.0  \n",
       "1700         0.0  \n",
       "1701         0.0  \n",
       "1702         0.0  \n",
       "1703         0.0  \n",
       "\n",
       "[1704 rows x 219 columns]"
      ]
     },
     "execution_count": 39,
     "metadata": {},
     "output_type": "execute_result"
    }
   ],
   "source": [
    "one_df = pd.DataFrame(lis,columns=col)\n",
    "one_df"
   ]
  },
  {
   "cell_type": "code",
   "execution_count": 40,
   "id": "01f4686c",
   "metadata": {},
   "outputs": [],
   "source": [
    "one_df.reset_index(inplace=True,drop='first')"
   ]
  },
  {
   "cell_type": "code",
   "execution_count": 41,
   "id": "51e64d15",
   "metadata": {},
   "outputs": [],
   "source": [
    "two_df.reset_index(inplace=True,drop='first')"
   ]
  },
  {
   "cell_type": "code",
   "execution_count": 42,
   "id": "d91a5ec0",
   "metadata": {},
   "outputs": [
    {
     "data": {
      "text/html": [
       "<div>\n",
       "<style scoped>\n",
       "    .dataframe tbody tr th:only-of-type {\n",
       "        vertical-align: middle;\n",
       "    }\n",
       "\n",
       "    .dataframe tbody tr th {\n",
       "        vertical-align: top;\n",
       "    }\n",
       "\n",
       "    .dataframe thead th {\n",
       "        text-align: right;\n",
       "    }\n",
       "</style>\n",
       "<table border=\"1\" class=\"dataframe\">\n",
       "  <thead>\n",
       "    <tr style=\"text-align: right;\">\n",
       "      <th></th>\n",
       "      <th>brand_Audi</th>\n",
       "      <th>brand_BMW</th>\n",
       "      <th>brand_Bentley</th>\n",
       "      <th>brand_Chevrolet</th>\n",
       "      <th>brand_Datsun</th>\n",
       "      <th>brand_Fiat</th>\n",
       "      <th>brand_Ford</th>\n",
       "      <th>brand_Honda</th>\n",
       "      <th>brand_Hyundai</th>\n",
       "      <th>brand_Isuzu</th>\n",
       "      <th>...</th>\n",
       "      <th>distance_travelled(kms)</th>\n",
       "      <th>car_age</th>\n",
       "      <th>new and less used</th>\n",
       "      <th>inv_car_price</th>\n",
       "      <th>inv_car_dist</th>\n",
       "      <th>inv_car_age</th>\n",
       "      <th>std_invprice</th>\n",
       "      <th>std_invdistance_travelled</th>\n",
       "      <th>std_invrank</th>\n",
       "      <th>best_buy1</th>\n",
       "    </tr>\n",
       "  </thead>\n",
       "  <tbody>\n",
       "    <tr>\n",
       "      <th>0</th>\n",
       "      <td>0.0</td>\n",
       "      <td>0.0</td>\n",
       "      <td>0.0</td>\n",
       "      <td>0.0</td>\n",
       "      <td>0.0</td>\n",
       "      <td>0.0</td>\n",
       "      <td>0.0</td>\n",
       "      <td>1.0</td>\n",
       "      <td>0.0</td>\n",
       "      <td>0.0</td>\n",
       "      <td>...</td>\n",
       "      <td>9680.0</td>\n",
       "      <td>5.0</td>\n",
       "      <td>0</td>\n",
       "      <td>2.352941e-06</td>\n",
       "      <td>0.000103</td>\n",
       "      <td>0.200000</td>\n",
       "      <td>0.143417</td>\n",
       "      <td>0.035730</td>\n",
       "      <td>0.132143</td>\n",
       "      <td>677.134239</td>\n",
       "    </tr>\n",
       "    <tr>\n",
       "      <th>1</th>\n",
       "      <td>0.0</td>\n",
       "      <td>0.0</td>\n",
       "      <td>0.0</td>\n",
       "      <td>0.0</td>\n",
       "      <td>0.0</td>\n",
       "      <td>0.0</td>\n",
       "      <td>0.0</td>\n",
       "      <td>0.0</td>\n",
       "      <td>0.0</td>\n",
       "      <td>0.0</td>\n",
       "      <td>...</td>\n",
       "      <td>119120.0</td>\n",
       "      <td>9.0</td>\n",
       "      <td>0</td>\n",
       "      <td>3.076923e-06</td>\n",
       "      <td>0.000008</td>\n",
       "      <td>0.111111</td>\n",
       "      <td>0.188859</td>\n",
       "      <td>0.002496</td>\n",
       "      <td>0.079545</td>\n",
       "      <td>37.501318</td>\n",
       "    </tr>\n",
       "    <tr>\n",
       "      <th>2</th>\n",
       "      <td>0.0</td>\n",
       "      <td>0.0</td>\n",
       "      <td>0.0</td>\n",
       "      <td>0.0</td>\n",
       "      <td>0.0</td>\n",
       "      <td>0.0</td>\n",
       "      <td>0.0</td>\n",
       "      <td>0.0</td>\n",
       "      <td>0.0</td>\n",
       "      <td>0.0</td>\n",
       "      <td>...</td>\n",
       "      <td>64593.0</td>\n",
       "      <td>4.0</td>\n",
       "      <td>0</td>\n",
       "      <td>3.773585e-07</td>\n",
       "      <td>0.000015</td>\n",
       "      <td>0.250000</td>\n",
       "      <td>0.019416</td>\n",
       "      <td>0.004978</td>\n",
       "      <td>1.000000</td>\n",
       "      <td>96.646020</td>\n",
       "    </tr>\n",
       "    <tr>\n",
       "      <th>3</th>\n",
       "      <td>0.0</td>\n",
       "      <td>0.0</td>\n",
       "      <td>0.0</td>\n",
       "      <td>0.0</td>\n",
       "      <td>0.0</td>\n",
       "      <td>0.0</td>\n",
       "      <td>0.0</td>\n",
       "      <td>0.0</td>\n",
       "      <td>0.0</td>\n",
       "      <td>0.0</td>\n",
       "      <td>...</td>\n",
       "      <td>25000.0</td>\n",
       "      <td>4.0</td>\n",
       "      <td>1</td>\n",
       "      <td>2.383790e-07</td>\n",
       "      <td>0.000040</td>\n",
       "      <td>0.250000</td>\n",
       "      <td>0.010692</td>\n",
       "      <td>0.013563</td>\n",
       "      <td>0.493750</td>\n",
       "      <td>71.604306</td>\n",
       "    </tr>\n",
       "    <tr>\n",
       "      <th>4</th>\n",
       "      <td>0.0</td>\n",
       "      <td>0.0</td>\n",
       "      <td>0.0</td>\n",
       "      <td>0.0</td>\n",
       "      <td>0.0</td>\n",
       "      <td>0.0</td>\n",
       "      <td>0.0</td>\n",
       "      <td>0.0</td>\n",
       "      <td>1.0</td>\n",
       "      <td>0.0</td>\n",
       "      <td>...</td>\n",
       "      <td>23800.0</td>\n",
       "      <td>9.0</td>\n",
       "      <td>0</td>\n",
       "      <td>2.105263e-06</td>\n",
       "      <td>0.000042</td>\n",
       "      <td>0.111111</td>\n",
       "      <td>0.127871</td>\n",
       "      <td>0.014269</td>\n",
       "      <td>0.059821</td>\n",
       "      <td>109.150857</td>\n",
       "    </tr>\n",
       "    <tr>\n",
       "      <th>...</th>\n",
       "      <td>...</td>\n",
       "      <td>...</td>\n",
       "      <td>...</td>\n",
       "      <td>...</td>\n",
       "      <td>...</td>\n",
       "      <td>...</td>\n",
       "      <td>...</td>\n",
       "      <td>...</td>\n",
       "      <td>...</td>\n",
       "      <td>...</td>\n",
       "      <td>...</td>\n",
       "      <td>...</td>\n",
       "      <td>...</td>\n",
       "      <td>...</td>\n",
       "      <td>...</td>\n",
       "      <td>...</td>\n",
       "      <td>...</td>\n",
       "      <td>...</td>\n",
       "      <td>...</td>\n",
       "      <td>...</td>\n",
       "      <td>...</td>\n",
       "    </tr>\n",
       "    <tr>\n",
       "      <th>1699</th>\n",
       "      <td>0.0</td>\n",
       "      <td>0.0</td>\n",
       "      <td>0.0</td>\n",
       "      <td>0.0</td>\n",
       "      <td>0.0</td>\n",
       "      <td>0.0</td>\n",
       "      <td>0.0</td>\n",
       "      <td>0.0</td>\n",
       "      <td>1.0</td>\n",
       "      <td>0.0</td>\n",
       "      <td>...</td>\n",
       "      <td>38000.0</td>\n",
       "      <td>6.0</td>\n",
       "      <td>0</td>\n",
       "      <td>3.448276e-06</td>\n",
       "      <td>0.000026</td>\n",
       "      <td>0.166667</td>\n",
       "      <td>0.212168</td>\n",
       "      <td>0.008771</td>\n",
       "      <td>0.059821</td>\n",
       "      <td>111.327773</td>\n",
       "    </tr>\n",
       "    <tr>\n",
       "      <th>1700</th>\n",
       "      <td>0.0</td>\n",
       "      <td>0.0</td>\n",
       "      <td>1.0</td>\n",
       "      <td>0.0</td>\n",
       "      <td>0.0</td>\n",
       "      <td>0.0</td>\n",
       "      <td>0.0</td>\n",
       "      <td>0.0</td>\n",
       "      <td>0.0</td>\n",
       "      <td>0.0</td>\n",
       "      <td>...</td>\n",
       "      <td>36000.0</td>\n",
       "      <td>10.0</td>\n",
       "      <td>0</td>\n",
       "      <td>1.333333e-07</td>\n",
       "      <td>0.000028</td>\n",
       "      <td>0.100000</td>\n",
       "      <td>0.004099</td>\n",
       "      <td>0.009283</td>\n",
       "      <td>0.010511</td>\n",
       "      <td>0.399987</td>\n",
       "    </tr>\n",
       "    <tr>\n",
       "      <th>1701</th>\n",
       "      <td>0.0</td>\n",
       "      <td>0.0</td>\n",
       "      <td>0.0</td>\n",
       "      <td>0.0</td>\n",
       "      <td>0.0</td>\n",
       "      <td>0.0</td>\n",
       "      <td>0.0</td>\n",
       "      <td>0.0</td>\n",
       "      <td>0.0</td>\n",
       "      <td>0.0</td>\n",
       "      <td>...</td>\n",
       "      <td>142522.0</td>\n",
       "      <td>13.0</td>\n",
       "      <td>0</td>\n",
       "      <td>5.405405e-06</td>\n",
       "      <td>0.000007</td>\n",
       "      <td>0.076923</td>\n",
       "      <td>0.335011</td>\n",
       "      <td>0.002014</td>\n",
       "      <td>0.029687</td>\n",
       "      <td>20.026662</td>\n",
       "    </tr>\n",
       "    <tr>\n",
       "      <th>1702</th>\n",
       "      <td>0.0</td>\n",
       "      <td>0.0</td>\n",
       "      <td>0.0</td>\n",
       "      <td>0.0</td>\n",
       "      <td>0.0</td>\n",
       "      <td>0.0</td>\n",
       "      <td>0.0</td>\n",
       "      <td>0.0</td>\n",
       "      <td>0.0</td>\n",
       "      <td>0.0</td>\n",
       "      <td>...</td>\n",
       "      <td>18581.0</td>\n",
       "      <td>31.0</td>\n",
       "      <td>0</td>\n",
       "      <td>3.076923e-06</td>\n",
       "      <td>0.000054</td>\n",
       "      <td>0.032258</td>\n",
       "      <td>0.188859</td>\n",
       "      <td>0.018402</td>\n",
       "      <td>0.029687</td>\n",
       "      <td>103.172958</td>\n",
       "    </tr>\n",
       "    <tr>\n",
       "      <th>1703</th>\n",
       "      <td>0.0</td>\n",
       "      <td>0.0</td>\n",
       "      <td>0.0</td>\n",
       "      <td>0.0</td>\n",
       "      <td>0.0</td>\n",
       "      <td>0.0</td>\n",
       "      <td>0.0</td>\n",
       "      <td>0.0</td>\n",
       "      <td>1.0</td>\n",
       "      <td>0.0</td>\n",
       "      <td>...</td>\n",
       "      <td>31028.0</td>\n",
       "      <td>4.0</td>\n",
       "      <td>0</td>\n",
       "      <td>7.168459e-07</td>\n",
       "      <td>0.000032</td>\n",
       "      <td>0.250000</td>\n",
       "      <td>0.040724</td>\n",
       "      <td>0.010842</td>\n",
       "      <td>0.059821</td>\n",
       "      <td>26.412891</td>\n",
       "    </tr>\n",
       "  </tbody>\n",
       "</table>\n",
       "<p>1704 rows × 231 columns</p>\n",
       "</div>"
      ],
      "text/plain": [
       "      brand_Audi  brand_BMW  brand_Bentley  brand_Chevrolet  brand_Datsun  \\\n",
       "0            0.0        0.0            0.0              0.0           0.0   \n",
       "1            0.0        0.0            0.0              0.0           0.0   \n",
       "2            0.0        0.0            0.0              0.0           0.0   \n",
       "3            0.0        0.0            0.0              0.0           0.0   \n",
       "4            0.0        0.0            0.0              0.0           0.0   \n",
       "...          ...        ...            ...              ...           ...   \n",
       "1699         0.0        0.0            0.0              0.0           0.0   \n",
       "1700         0.0        0.0            1.0              0.0           0.0   \n",
       "1701         0.0        0.0            0.0              0.0           0.0   \n",
       "1702         0.0        0.0            0.0              0.0           0.0   \n",
       "1703         0.0        0.0            0.0              0.0           0.0   \n",
       "\n",
       "      brand_Fiat  brand_Ford  brand_Honda  brand_Hyundai  brand_Isuzu  ...  \\\n",
       "0            0.0         0.0          1.0            0.0          0.0  ...   \n",
       "1            0.0         0.0          0.0            0.0          0.0  ...   \n",
       "2            0.0         0.0          0.0            0.0          0.0  ...   \n",
       "3            0.0         0.0          0.0            0.0          0.0  ...   \n",
       "4            0.0         0.0          0.0            1.0          0.0  ...   \n",
       "...          ...         ...          ...            ...          ...  ...   \n",
       "1699         0.0         0.0          0.0            1.0          0.0  ...   \n",
       "1700         0.0         0.0          0.0            0.0          0.0  ...   \n",
       "1701         0.0         0.0          0.0            0.0          0.0  ...   \n",
       "1702         0.0         0.0          0.0            0.0          0.0  ...   \n",
       "1703         0.0         0.0          0.0            1.0          0.0  ...   \n",
       "\n",
       "      distance_travelled(kms)  car_age  new and less used  inv_car_price  \\\n",
       "0                      9680.0      5.0                  0   2.352941e-06   \n",
       "1                    119120.0      9.0                  0   3.076923e-06   \n",
       "2                     64593.0      4.0                  0   3.773585e-07   \n",
       "3                     25000.0      4.0                  1   2.383790e-07   \n",
       "4                     23800.0      9.0                  0   2.105263e-06   \n",
       "...                       ...      ...                ...            ...   \n",
       "1699                  38000.0      6.0                  0   3.448276e-06   \n",
       "1700                  36000.0     10.0                  0   1.333333e-07   \n",
       "1701                 142522.0     13.0                  0   5.405405e-06   \n",
       "1702                  18581.0     31.0                  0   3.076923e-06   \n",
       "1703                  31028.0      4.0                  0   7.168459e-07   \n",
       "\n",
       "      inv_car_dist  inv_car_age  std_invprice  std_invdistance_travelled  \\\n",
       "0         0.000103     0.200000      0.143417                   0.035730   \n",
       "1         0.000008     0.111111      0.188859                   0.002496   \n",
       "2         0.000015     0.250000      0.019416                   0.004978   \n",
       "3         0.000040     0.250000      0.010692                   0.013563   \n",
       "4         0.000042     0.111111      0.127871                   0.014269   \n",
       "...            ...          ...           ...                        ...   \n",
       "1699      0.000026     0.166667      0.212168                   0.008771   \n",
       "1700      0.000028     0.100000      0.004099                   0.009283   \n",
       "1701      0.000007     0.076923      0.335011                   0.002014   \n",
       "1702      0.000054     0.032258      0.188859                   0.018402   \n",
       "1703      0.000032     0.250000      0.040724                   0.010842   \n",
       "\n",
       "      std_invrank   best_buy1  \n",
       "0        0.132143  677.134239  \n",
       "1        0.079545   37.501318  \n",
       "2        1.000000   96.646020  \n",
       "3        0.493750   71.604306  \n",
       "4        0.059821  109.150857  \n",
       "...           ...         ...  \n",
       "1699     0.059821  111.327773  \n",
       "1700     0.010511    0.399987  \n",
       "1701     0.029687   20.026662  \n",
       "1702     0.029687  103.172958  \n",
       "1703     0.059821   26.412891  \n",
       "\n",
       "[1704 rows x 231 columns]"
      ]
     },
     "execution_count": 42,
     "metadata": {},
     "output_type": "execute_result"
    }
   ],
   "source": [
    "final_df=pd.concat([one_df,two_df],axis=1)\n",
    "final_df"
   ]
  },
  {
   "cell_type": "code",
   "execution_count": 43,
   "id": "21754ee9",
   "metadata": {},
   "outputs": [],
   "source": [
    "x = final_df.drop('price',axis=1)\n",
    "y=final_df['price']"
   ]
  },
  {
   "cell_type": "code",
   "execution_count": 44,
   "id": "2f93bc44",
   "metadata": {},
   "outputs": [
    {
     "data": {
      "text/html": [
       "<div>\n",
       "<style scoped>\n",
       "    .dataframe tbody tr th:only-of-type {\n",
       "        vertical-align: middle;\n",
       "    }\n",
       "\n",
       "    .dataframe tbody tr th {\n",
       "        vertical-align: top;\n",
       "    }\n",
       "\n",
       "    .dataframe thead th {\n",
       "        text-align: right;\n",
       "    }\n",
       "</style>\n",
       "<table border=\"1\" class=\"dataframe\">\n",
       "  <thead>\n",
       "    <tr style=\"text-align: right;\">\n",
       "      <th></th>\n",
       "      <th>brand_Audi</th>\n",
       "      <th>brand_BMW</th>\n",
       "      <th>brand_Bentley</th>\n",
       "      <th>brand_Chevrolet</th>\n",
       "      <th>brand_Datsun</th>\n",
       "      <th>brand_Fiat</th>\n",
       "      <th>brand_Ford</th>\n",
       "      <th>brand_Honda</th>\n",
       "      <th>brand_Hyundai</th>\n",
       "      <th>brand_Isuzu</th>\n",
       "      <th>...</th>\n",
       "      <th>distance_travelled(kms)</th>\n",
       "      <th>car_age</th>\n",
       "      <th>new and less used</th>\n",
       "      <th>inv_car_price</th>\n",
       "      <th>inv_car_dist</th>\n",
       "      <th>inv_car_age</th>\n",
       "      <th>std_invprice</th>\n",
       "      <th>std_invdistance_travelled</th>\n",
       "      <th>std_invrank</th>\n",
       "      <th>best_buy1</th>\n",
       "    </tr>\n",
       "  </thead>\n",
       "  <tbody>\n",
       "    <tr>\n",
       "      <th>0</th>\n",
       "      <td>0.0</td>\n",
       "      <td>0.0</td>\n",
       "      <td>0.0</td>\n",
       "      <td>0.0</td>\n",
       "      <td>0.0</td>\n",
       "      <td>0.0</td>\n",
       "      <td>0.0</td>\n",
       "      <td>1.0</td>\n",
       "      <td>0.0</td>\n",
       "      <td>0.0</td>\n",
       "      <td>...</td>\n",
       "      <td>9680.0</td>\n",
       "      <td>5.0</td>\n",
       "      <td>0</td>\n",
       "      <td>2.352941e-06</td>\n",
       "      <td>0.000103</td>\n",
       "      <td>0.200000</td>\n",
       "      <td>0.143417</td>\n",
       "      <td>0.035730</td>\n",
       "      <td>0.132143</td>\n",
       "      <td>677.134239</td>\n",
       "    </tr>\n",
       "    <tr>\n",
       "      <th>1</th>\n",
       "      <td>0.0</td>\n",
       "      <td>0.0</td>\n",
       "      <td>0.0</td>\n",
       "      <td>0.0</td>\n",
       "      <td>0.0</td>\n",
       "      <td>0.0</td>\n",
       "      <td>0.0</td>\n",
       "      <td>0.0</td>\n",
       "      <td>0.0</td>\n",
       "      <td>0.0</td>\n",
       "      <td>...</td>\n",
       "      <td>119120.0</td>\n",
       "      <td>9.0</td>\n",
       "      <td>0</td>\n",
       "      <td>3.076923e-06</td>\n",
       "      <td>0.000008</td>\n",
       "      <td>0.111111</td>\n",
       "      <td>0.188859</td>\n",
       "      <td>0.002496</td>\n",
       "      <td>0.079545</td>\n",
       "      <td>37.501318</td>\n",
       "    </tr>\n",
       "    <tr>\n",
       "      <th>2</th>\n",
       "      <td>0.0</td>\n",
       "      <td>0.0</td>\n",
       "      <td>0.0</td>\n",
       "      <td>0.0</td>\n",
       "      <td>0.0</td>\n",
       "      <td>0.0</td>\n",
       "      <td>0.0</td>\n",
       "      <td>0.0</td>\n",
       "      <td>0.0</td>\n",
       "      <td>0.0</td>\n",
       "      <td>...</td>\n",
       "      <td>64593.0</td>\n",
       "      <td>4.0</td>\n",
       "      <td>0</td>\n",
       "      <td>3.773585e-07</td>\n",
       "      <td>0.000015</td>\n",
       "      <td>0.250000</td>\n",
       "      <td>0.019416</td>\n",
       "      <td>0.004978</td>\n",
       "      <td>1.000000</td>\n",
       "      <td>96.646020</td>\n",
       "    </tr>\n",
       "    <tr>\n",
       "      <th>3</th>\n",
       "      <td>0.0</td>\n",
       "      <td>0.0</td>\n",
       "      <td>0.0</td>\n",
       "      <td>0.0</td>\n",
       "      <td>0.0</td>\n",
       "      <td>0.0</td>\n",
       "      <td>0.0</td>\n",
       "      <td>0.0</td>\n",
       "      <td>0.0</td>\n",
       "      <td>0.0</td>\n",
       "      <td>...</td>\n",
       "      <td>25000.0</td>\n",
       "      <td>4.0</td>\n",
       "      <td>1</td>\n",
       "      <td>2.383790e-07</td>\n",
       "      <td>0.000040</td>\n",
       "      <td>0.250000</td>\n",
       "      <td>0.010692</td>\n",
       "      <td>0.013563</td>\n",
       "      <td>0.493750</td>\n",
       "      <td>71.604306</td>\n",
       "    </tr>\n",
       "    <tr>\n",
       "      <th>4</th>\n",
       "      <td>0.0</td>\n",
       "      <td>0.0</td>\n",
       "      <td>0.0</td>\n",
       "      <td>0.0</td>\n",
       "      <td>0.0</td>\n",
       "      <td>0.0</td>\n",
       "      <td>0.0</td>\n",
       "      <td>0.0</td>\n",
       "      <td>1.0</td>\n",
       "      <td>0.0</td>\n",
       "      <td>...</td>\n",
       "      <td>23800.0</td>\n",
       "      <td>9.0</td>\n",
       "      <td>0</td>\n",
       "      <td>2.105263e-06</td>\n",
       "      <td>0.000042</td>\n",
       "      <td>0.111111</td>\n",
       "      <td>0.127871</td>\n",
       "      <td>0.014269</td>\n",
       "      <td>0.059821</td>\n",
       "      <td>109.150857</td>\n",
       "    </tr>\n",
       "    <tr>\n",
       "      <th>...</th>\n",
       "      <td>...</td>\n",
       "      <td>...</td>\n",
       "      <td>...</td>\n",
       "      <td>...</td>\n",
       "      <td>...</td>\n",
       "      <td>...</td>\n",
       "      <td>...</td>\n",
       "      <td>...</td>\n",
       "      <td>...</td>\n",
       "      <td>...</td>\n",
       "      <td>...</td>\n",
       "      <td>...</td>\n",
       "      <td>...</td>\n",
       "      <td>...</td>\n",
       "      <td>...</td>\n",
       "      <td>...</td>\n",
       "      <td>...</td>\n",
       "      <td>...</td>\n",
       "      <td>...</td>\n",
       "      <td>...</td>\n",
       "      <td>...</td>\n",
       "    </tr>\n",
       "    <tr>\n",
       "      <th>1699</th>\n",
       "      <td>0.0</td>\n",
       "      <td>0.0</td>\n",
       "      <td>0.0</td>\n",
       "      <td>0.0</td>\n",
       "      <td>0.0</td>\n",
       "      <td>0.0</td>\n",
       "      <td>0.0</td>\n",
       "      <td>0.0</td>\n",
       "      <td>1.0</td>\n",
       "      <td>0.0</td>\n",
       "      <td>...</td>\n",
       "      <td>38000.0</td>\n",
       "      <td>6.0</td>\n",
       "      <td>0</td>\n",
       "      <td>3.448276e-06</td>\n",
       "      <td>0.000026</td>\n",
       "      <td>0.166667</td>\n",
       "      <td>0.212168</td>\n",
       "      <td>0.008771</td>\n",
       "      <td>0.059821</td>\n",
       "      <td>111.327773</td>\n",
       "    </tr>\n",
       "    <tr>\n",
       "      <th>1700</th>\n",
       "      <td>0.0</td>\n",
       "      <td>0.0</td>\n",
       "      <td>1.0</td>\n",
       "      <td>0.0</td>\n",
       "      <td>0.0</td>\n",
       "      <td>0.0</td>\n",
       "      <td>0.0</td>\n",
       "      <td>0.0</td>\n",
       "      <td>0.0</td>\n",
       "      <td>0.0</td>\n",
       "      <td>...</td>\n",
       "      <td>36000.0</td>\n",
       "      <td>10.0</td>\n",
       "      <td>0</td>\n",
       "      <td>1.333333e-07</td>\n",
       "      <td>0.000028</td>\n",
       "      <td>0.100000</td>\n",
       "      <td>0.004099</td>\n",
       "      <td>0.009283</td>\n",
       "      <td>0.010511</td>\n",
       "      <td>0.399987</td>\n",
       "    </tr>\n",
       "    <tr>\n",
       "      <th>1701</th>\n",
       "      <td>0.0</td>\n",
       "      <td>0.0</td>\n",
       "      <td>0.0</td>\n",
       "      <td>0.0</td>\n",
       "      <td>0.0</td>\n",
       "      <td>0.0</td>\n",
       "      <td>0.0</td>\n",
       "      <td>0.0</td>\n",
       "      <td>0.0</td>\n",
       "      <td>0.0</td>\n",
       "      <td>...</td>\n",
       "      <td>142522.0</td>\n",
       "      <td>13.0</td>\n",
       "      <td>0</td>\n",
       "      <td>5.405405e-06</td>\n",
       "      <td>0.000007</td>\n",
       "      <td>0.076923</td>\n",
       "      <td>0.335011</td>\n",
       "      <td>0.002014</td>\n",
       "      <td>0.029687</td>\n",
       "      <td>20.026662</td>\n",
       "    </tr>\n",
       "    <tr>\n",
       "      <th>1702</th>\n",
       "      <td>0.0</td>\n",
       "      <td>0.0</td>\n",
       "      <td>0.0</td>\n",
       "      <td>0.0</td>\n",
       "      <td>0.0</td>\n",
       "      <td>0.0</td>\n",
       "      <td>0.0</td>\n",
       "      <td>0.0</td>\n",
       "      <td>0.0</td>\n",
       "      <td>0.0</td>\n",
       "      <td>...</td>\n",
       "      <td>18581.0</td>\n",
       "      <td>31.0</td>\n",
       "      <td>0</td>\n",
       "      <td>3.076923e-06</td>\n",
       "      <td>0.000054</td>\n",
       "      <td>0.032258</td>\n",
       "      <td>0.188859</td>\n",
       "      <td>0.018402</td>\n",
       "      <td>0.029687</td>\n",
       "      <td>103.172958</td>\n",
       "    </tr>\n",
       "    <tr>\n",
       "      <th>1703</th>\n",
       "      <td>0.0</td>\n",
       "      <td>0.0</td>\n",
       "      <td>0.0</td>\n",
       "      <td>0.0</td>\n",
       "      <td>0.0</td>\n",
       "      <td>0.0</td>\n",
       "      <td>0.0</td>\n",
       "      <td>0.0</td>\n",
       "      <td>1.0</td>\n",
       "      <td>0.0</td>\n",
       "      <td>...</td>\n",
       "      <td>31028.0</td>\n",
       "      <td>4.0</td>\n",
       "      <td>0</td>\n",
       "      <td>7.168459e-07</td>\n",
       "      <td>0.000032</td>\n",
       "      <td>0.250000</td>\n",
       "      <td>0.040724</td>\n",
       "      <td>0.010842</td>\n",
       "      <td>0.059821</td>\n",
       "      <td>26.412891</td>\n",
       "    </tr>\n",
       "  </tbody>\n",
       "</table>\n",
       "<p>1704 rows × 230 columns</p>\n",
       "</div>"
      ],
      "text/plain": [
       "      brand_Audi  brand_BMW  brand_Bentley  brand_Chevrolet  brand_Datsun  \\\n",
       "0            0.0        0.0            0.0              0.0           0.0   \n",
       "1            0.0        0.0            0.0              0.0           0.0   \n",
       "2            0.0        0.0            0.0              0.0           0.0   \n",
       "3            0.0        0.0            0.0              0.0           0.0   \n",
       "4            0.0        0.0            0.0              0.0           0.0   \n",
       "...          ...        ...            ...              ...           ...   \n",
       "1699         0.0        0.0            0.0              0.0           0.0   \n",
       "1700         0.0        0.0            1.0              0.0           0.0   \n",
       "1701         0.0        0.0            0.0              0.0           0.0   \n",
       "1702         0.0        0.0            0.0              0.0           0.0   \n",
       "1703         0.0        0.0            0.0              0.0           0.0   \n",
       "\n",
       "      brand_Fiat  brand_Ford  brand_Honda  brand_Hyundai  brand_Isuzu  ...  \\\n",
       "0            0.0         0.0          1.0            0.0          0.0  ...   \n",
       "1            0.0         0.0          0.0            0.0          0.0  ...   \n",
       "2            0.0         0.0          0.0            0.0          0.0  ...   \n",
       "3            0.0         0.0          0.0            0.0          0.0  ...   \n",
       "4            0.0         0.0          0.0            1.0          0.0  ...   \n",
       "...          ...         ...          ...            ...          ...  ...   \n",
       "1699         0.0         0.0          0.0            1.0          0.0  ...   \n",
       "1700         0.0         0.0          0.0            0.0          0.0  ...   \n",
       "1701         0.0         0.0          0.0            0.0          0.0  ...   \n",
       "1702         0.0         0.0          0.0            0.0          0.0  ...   \n",
       "1703         0.0         0.0          0.0            1.0          0.0  ...   \n",
       "\n",
       "      distance_travelled(kms)  car_age  new and less used  inv_car_price  \\\n",
       "0                      9680.0      5.0                  0   2.352941e-06   \n",
       "1                    119120.0      9.0                  0   3.076923e-06   \n",
       "2                     64593.0      4.0                  0   3.773585e-07   \n",
       "3                     25000.0      4.0                  1   2.383790e-07   \n",
       "4                     23800.0      9.0                  0   2.105263e-06   \n",
       "...                       ...      ...                ...            ...   \n",
       "1699                  38000.0      6.0                  0   3.448276e-06   \n",
       "1700                  36000.0     10.0                  0   1.333333e-07   \n",
       "1701                 142522.0     13.0                  0   5.405405e-06   \n",
       "1702                  18581.0     31.0                  0   3.076923e-06   \n",
       "1703                  31028.0      4.0                  0   7.168459e-07   \n",
       "\n",
       "      inv_car_dist  inv_car_age  std_invprice  std_invdistance_travelled  \\\n",
       "0         0.000103     0.200000      0.143417                   0.035730   \n",
       "1         0.000008     0.111111      0.188859                   0.002496   \n",
       "2         0.000015     0.250000      0.019416                   0.004978   \n",
       "3         0.000040     0.250000      0.010692                   0.013563   \n",
       "4         0.000042     0.111111      0.127871                   0.014269   \n",
       "...            ...          ...           ...                        ...   \n",
       "1699      0.000026     0.166667      0.212168                   0.008771   \n",
       "1700      0.000028     0.100000      0.004099                   0.009283   \n",
       "1701      0.000007     0.076923      0.335011                   0.002014   \n",
       "1702      0.000054     0.032258      0.188859                   0.018402   \n",
       "1703      0.000032     0.250000      0.040724                   0.010842   \n",
       "\n",
       "      std_invrank   best_buy1  \n",
       "0        0.132143  677.134239  \n",
       "1        0.079545   37.501318  \n",
       "2        1.000000   96.646020  \n",
       "3        0.493750   71.604306  \n",
       "4        0.059821  109.150857  \n",
       "...           ...         ...  \n",
       "1699     0.059821  111.327773  \n",
       "1700     0.010511    0.399987  \n",
       "1701     0.029687   20.026662  \n",
       "1702     0.029687  103.172958  \n",
       "1703     0.059821   26.412891  \n",
       "\n",
       "[1704 rows x 230 columns]"
      ]
     },
     "execution_count": 44,
     "metadata": {},
     "output_type": "execute_result"
    }
   ],
   "source": [
    "x"
   ]
  },
  {
   "cell_type": "code",
   "execution_count": 45,
   "id": "de7b018e",
   "metadata": {},
   "outputs": [
    {
     "name": "stdout",
     "output_type": "stream",
     "text": [
      "<class 'pandas.core.frame.DataFrame'>\n",
      "RangeIndex: 1704 entries, 0 to 1703\n",
      "Columns: 230 entries, brand_Audi to best_buy1\n",
      "dtypes: float64(228), int64(2)\n",
      "memory usage: 3.0 MB\n"
     ]
    }
   ],
   "source": [
    "x.info()"
   ]
  },
  {
   "cell_type": "code",
   "execution_count": 46,
   "id": "661eef7f",
   "metadata": {},
   "outputs": [],
   "source": [
    "from sklearn.model_selection import train_test_split"
   ]
  },
  {
   "cell_type": "code",
   "execution_count": 47,
   "id": "2dd08acd",
   "metadata": {},
   "outputs": [],
   "source": [
    "x_train,x_test,y_train,y_test = train_test_split(x,y,test_size=0.3,random_state = 33)"
   ]
  },
  {
   "cell_type": "code",
   "execution_count": 48,
   "id": "5232ad34",
   "metadata": {},
   "outputs": [
    {
     "data": {
      "text/plain": [
       "((1192, 230), (1192,))"
      ]
     },
     "execution_count": 48,
     "metadata": {},
     "output_type": "execute_result"
    }
   ],
   "source": [
    "x_train.shape,y_train.shape"
   ]
  },
  {
   "cell_type": "code",
   "execution_count": 49,
   "id": "fbd7b3ff",
   "metadata": {},
   "outputs": [
    {
     "data": {
      "text/plain": [
       "((512, 230), (512,))"
      ]
     },
     "execution_count": 49,
     "metadata": {},
     "output_type": "execute_result"
    }
   ],
   "source": [
    "x_test.shape,y_test.shape"
   ]
  },
  {
   "cell_type": "code",
   "execution_count": 50,
   "id": "f413dab8",
   "metadata": {},
   "outputs": [],
   "source": [
    "from sklearn.ensemble import RandomForestRegressor"
   ]
  },
  {
   "cell_type": "code",
   "execution_count": 51,
   "id": "300e7c2f",
   "metadata": {},
   "outputs": [],
   "source": [
    "from sklearn.model_selection import GridSearchCV"
   ]
  },
  {
   "cell_type": "code",
   "execution_count": 52,
   "id": "19d51d37",
   "metadata": {},
   "outputs": [],
   "source": [
    "Model = RandomForestRegressor()"
   ]
  },
  {
   "cell_type": "code",
   "execution_count": 53,
   "id": "9454bc48",
   "metadata": {},
   "outputs": [
    {
     "data": {
      "text/html": [
       "<style>#sk-container-id-1 {color: black;background-color: white;}#sk-container-id-1 pre{padding: 0;}#sk-container-id-1 div.sk-toggleable {background-color: white;}#sk-container-id-1 label.sk-toggleable__label {cursor: pointer;display: block;width: 100%;margin-bottom: 0;padding: 0.3em;box-sizing: border-box;text-align: center;}#sk-container-id-1 label.sk-toggleable__label-arrow:before {content: \"▸\";float: left;margin-right: 0.25em;color: #696969;}#sk-container-id-1 label.sk-toggleable__label-arrow:hover:before {color: black;}#sk-container-id-1 div.sk-estimator:hover label.sk-toggleable__label-arrow:before {color: black;}#sk-container-id-1 div.sk-toggleable__content {max-height: 0;max-width: 0;overflow: hidden;text-align: left;background-color: #f0f8ff;}#sk-container-id-1 div.sk-toggleable__content pre {margin: 0.2em;color: black;border-radius: 0.25em;background-color: #f0f8ff;}#sk-container-id-1 input.sk-toggleable__control:checked~div.sk-toggleable__content {max-height: 200px;max-width: 100%;overflow: auto;}#sk-container-id-1 input.sk-toggleable__control:checked~label.sk-toggleable__label-arrow:before {content: \"▾\";}#sk-container-id-1 div.sk-estimator input.sk-toggleable__control:checked~label.sk-toggleable__label {background-color: #d4ebff;}#sk-container-id-1 div.sk-label input.sk-toggleable__control:checked~label.sk-toggleable__label {background-color: #d4ebff;}#sk-container-id-1 input.sk-hidden--visually {border: 0;clip: rect(1px 1px 1px 1px);clip: rect(1px, 1px, 1px, 1px);height: 1px;margin: -1px;overflow: hidden;padding: 0;position: absolute;width: 1px;}#sk-container-id-1 div.sk-estimator {font-family: monospace;background-color: #f0f8ff;border: 1px dotted black;border-radius: 0.25em;box-sizing: border-box;margin-bottom: 0.5em;}#sk-container-id-1 div.sk-estimator:hover {background-color: #d4ebff;}#sk-container-id-1 div.sk-parallel-item::after {content: \"\";width: 100%;border-bottom: 1px solid gray;flex-grow: 1;}#sk-container-id-1 div.sk-label:hover label.sk-toggleable__label {background-color: #d4ebff;}#sk-container-id-1 div.sk-serial::before {content: \"\";position: absolute;border-left: 1px solid gray;box-sizing: border-box;top: 0;bottom: 0;left: 50%;z-index: 0;}#sk-container-id-1 div.sk-serial {display: flex;flex-direction: column;align-items: center;background-color: white;padding-right: 0.2em;padding-left: 0.2em;position: relative;}#sk-container-id-1 div.sk-item {position: relative;z-index: 1;}#sk-container-id-1 div.sk-parallel {display: flex;align-items: stretch;justify-content: center;background-color: white;position: relative;}#sk-container-id-1 div.sk-item::before, #sk-container-id-1 div.sk-parallel-item::before {content: \"\";position: absolute;border-left: 1px solid gray;box-sizing: border-box;top: 0;bottom: 0;left: 50%;z-index: -1;}#sk-container-id-1 div.sk-parallel-item {display: flex;flex-direction: column;z-index: 1;position: relative;background-color: white;}#sk-container-id-1 div.sk-parallel-item:first-child::after {align-self: flex-end;width: 50%;}#sk-container-id-1 div.sk-parallel-item:last-child::after {align-self: flex-start;width: 50%;}#sk-container-id-1 div.sk-parallel-item:only-child::after {width: 0;}#sk-container-id-1 div.sk-dashed-wrapped {border: 1px dashed gray;margin: 0 0.4em 0.5em 0.4em;box-sizing: border-box;padding-bottom: 0.4em;background-color: white;}#sk-container-id-1 div.sk-label label {font-family: monospace;font-weight: bold;display: inline-block;line-height: 1.2em;}#sk-container-id-1 div.sk-label-container {text-align: center;}#sk-container-id-1 div.sk-container {/* jupyter's `normalize.less` sets `[hidden] { display: none; }` but bootstrap.min.css set `[hidden] { display: none !important; }` so we also need the `!important` here to be able to override the default hidden behavior on the sphinx rendered scikit-learn.org. See: https://github.com/scikit-learn/scikit-learn/issues/21755 */display: inline-block !important;position: relative;}#sk-container-id-1 div.sk-text-repr-fallback {display: none;}</style><div id=\"sk-container-id-1\" class=\"sk-top-container\"><div class=\"sk-text-repr-fallback\"><pre>RandomForestRegressor()</pre><b>In a Jupyter environment, please rerun this cell to show the HTML representation or trust the notebook. <br />On GitHub, the HTML representation is unable to render, please try loading this page with nbviewer.org.</b></div><div class=\"sk-container\" hidden><div class=\"sk-item\"><div class=\"sk-estimator sk-toggleable\"><input class=\"sk-toggleable__control sk-hidden--visually\" id=\"sk-estimator-id-1\" type=\"checkbox\" checked><label for=\"sk-estimator-id-1\" class=\"sk-toggleable__label sk-toggleable__label-arrow\">RandomForestRegressor</label><div class=\"sk-toggleable__content\"><pre>RandomForestRegressor()</pre></div></div></div></div></div>"
      ],
      "text/plain": [
       "RandomForestRegressor()"
      ]
     },
     "execution_count": 53,
     "metadata": {},
     "output_type": "execute_result"
    }
   ],
   "source": [
    "Model.fit(x_train,y_train)"
   ]
  },
  {
   "cell_type": "code",
   "execution_count": 54,
   "id": "59a6bf86",
   "metadata": {},
   "outputs": [],
   "source": [
    "params ={'n_estimators' : [100,500],\n",
    "        'max_depth':[10, 20, 30, 40, 50, 60, 70, 80, 90, 100],\n",
    "         'max_features':['auto','sqrt'],\n",
    "         'criterion':['squared_error']\n",
    "        }"
   ]
  },
  {
   "cell_type": "code",
   "execution_count": 55,
   "id": "c64fe010",
   "metadata": {},
   "outputs": [],
   "source": [
    "grid_rf = GridSearchCV(estimator=Model,\n",
    "                      param_grid=params,\n",
    "                      scoring = 'neg_mean_squared_error')"
   ]
  },
  {
   "cell_type": "code",
   "execution_count": 57,
   "id": "a315fd27",
   "metadata": {},
   "outputs": [
    {
     "data": {
      "text/html": [
       "<style>#sk-container-id-2 {color: black;background-color: white;}#sk-container-id-2 pre{padding: 0;}#sk-container-id-2 div.sk-toggleable {background-color: white;}#sk-container-id-2 label.sk-toggleable__label {cursor: pointer;display: block;width: 100%;margin-bottom: 0;padding: 0.3em;box-sizing: border-box;text-align: center;}#sk-container-id-2 label.sk-toggleable__label-arrow:before {content: \"▸\";float: left;margin-right: 0.25em;color: #696969;}#sk-container-id-2 label.sk-toggleable__label-arrow:hover:before {color: black;}#sk-container-id-2 div.sk-estimator:hover label.sk-toggleable__label-arrow:before {color: black;}#sk-container-id-2 div.sk-toggleable__content {max-height: 0;max-width: 0;overflow: hidden;text-align: left;background-color: #f0f8ff;}#sk-container-id-2 div.sk-toggleable__content pre {margin: 0.2em;color: black;border-radius: 0.25em;background-color: #f0f8ff;}#sk-container-id-2 input.sk-toggleable__control:checked~div.sk-toggleable__content {max-height: 200px;max-width: 100%;overflow: auto;}#sk-container-id-2 input.sk-toggleable__control:checked~label.sk-toggleable__label-arrow:before {content: \"▾\";}#sk-container-id-2 div.sk-estimator input.sk-toggleable__control:checked~label.sk-toggleable__label {background-color: #d4ebff;}#sk-container-id-2 div.sk-label input.sk-toggleable__control:checked~label.sk-toggleable__label {background-color: #d4ebff;}#sk-container-id-2 input.sk-hidden--visually {border: 0;clip: rect(1px 1px 1px 1px);clip: rect(1px, 1px, 1px, 1px);height: 1px;margin: -1px;overflow: hidden;padding: 0;position: absolute;width: 1px;}#sk-container-id-2 div.sk-estimator {font-family: monospace;background-color: #f0f8ff;border: 1px dotted black;border-radius: 0.25em;box-sizing: border-box;margin-bottom: 0.5em;}#sk-container-id-2 div.sk-estimator:hover {background-color: #d4ebff;}#sk-container-id-2 div.sk-parallel-item::after {content: \"\";width: 100%;border-bottom: 1px solid gray;flex-grow: 1;}#sk-container-id-2 div.sk-label:hover label.sk-toggleable__label {background-color: #d4ebff;}#sk-container-id-2 div.sk-serial::before {content: \"\";position: absolute;border-left: 1px solid gray;box-sizing: border-box;top: 0;bottom: 0;left: 50%;z-index: 0;}#sk-container-id-2 div.sk-serial {display: flex;flex-direction: column;align-items: center;background-color: white;padding-right: 0.2em;padding-left: 0.2em;position: relative;}#sk-container-id-2 div.sk-item {position: relative;z-index: 1;}#sk-container-id-2 div.sk-parallel {display: flex;align-items: stretch;justify-content: center;background-color: white;position: relative;}#sk-container-id-2 div.sk-item::before, #sk-container-id-2 div.sk-parallel-item::before {content: \"\";position: absolute;border-left: 1px solid gray;box-sizing: border-box;top: 0;bottom: 0;left: 50%;z-index: -1;}#sk-container-id-2 div.sk-parallel-item {display: flex;flex-direction: column;z-index: 1;position: relative;background-color: white;}#sk-container-id-2 div.sk-parallel-item:first-child::after {align-self: flex-end;width: 50%;}#sk-container-id-2 div.sk-parallel-item:last-child::after {align-self: flex-start;width: 50%;}#sk-container-id-2 div.sk-parallel-item:only-child::after {width: 0;}#sk-container-id-2 div.sk-dashed-wrapped {border: 1px dashed gray;margin: 0 0.4em 0.5em 0.4em;box-sizing: border-box;padding-bottom: 0.4em;background-color: white;}#sk-container-id-2 div.sk-label label {font-family: monospace;font-weight: bold;display: inline-block;line-height: 1.2em;}#sk-container-id-2 div.sk-label-container {text-align: center;}#sk-container-id-2 div.sk-container {/* jupyter's `normalize.less` sets `[hidden] { display: none; }` but bootstrap.min.css set `[hidden] { display: none !important; }` so we also need the `!important` here to be able to override the default hidden behavior on the sphinx rendered scikit-learn.org. See: https://github.com/scikit-learn/scikit-learn/issues/21755 */display: inline-block !important;position: relative;}#sk-container-id-2 div.sk-text-repr-fallback {display: none;}</style><div id=\"sk-container-id-2\" class=\"sk-top-container\"><div class=\"sk-text-repr-fallback\"><pre>GridSearchCV(estimator=RandomForestRegressor(),\n",
       "             param_grid={&#x27;criterion&#x27;: [&#x27;squared_error&#x27;],\n",
       "                         &#x27;max_depth&#x27;: [10, 20, 30, 40, 50, 60, 70, 80, 90, 100],\n",
       "                         &#x27;max_features&#x27;: [&#x27;auto&#x27;, &#x27;sqrt&#x27;],\n",
       "                         &#x27;n_estimators&#x27;: [100, 500]},\n",
       "             scoring=&#x27;neg_mean_squared_error&#x27;)</pre><b>In a Jupyter environment, please rerun this cell to show the HTML representation or trust the notebook. <br />On GitHub, the HTML representation is unable to render, please try loading this page with nbviewer.org.</b></div><div class=\"sk-container\" hidden><div class=\"sk-item sk-dashed-wrapped\"><div class=\"sk-label-container\"><div class=\"sk-label sk-toggleable\"><input class=\"sk-toggleable__control sk-hidden--visually\" id=\"sk-estimator-id-2\" type=\"checkbox\" ><label for=\"sk-estimator-id-2\" class=\"sk-toggleable__label sk-toggleable__label-arrow\">GridSearchCV</label><div class=\"sk-toggleable__content\"><pre>GridSearchCV(estimator=RandomForestRegressor(),\n",
       "             param_grid={&#x27;criterion&#x27;: [&#x27;squared_error&#x27;],\n",
       "                         &#x27;max_depth&#x27;: [10, 20, 30, 40, 50, 60, 70, 80, 90, 100],\n",
       "                         &#x27;max_features&#x27;: [&#x27;auto&#x27;, &#x27;sqrt&#x27;],\n",
       "                         &#x27;n_estimators&#x27;: [100, 500]},\n",
       "             scoring=&#x27;neg_mean_squared_error&#x27;)</pre></div></div></div><div class=\"sk-parallel\"><div class=\"sk-parallel-item\"><div class=\"sk-item\"><div class=\"sk-label-container\"><div class=\"sk-label sk-toggleable\"><input class=\"sk-toggleable__control sk-hidden--visually\" id=\"sk-estimator-id-3\" type=\"checkbox\" ><label for=\"sk-estimator-id-3\" class=\"sk-toggleable__label sk-toggleable__label-arrow\">estimator: RandomForestRegressor</label><div class=\"sk-toggleable__content\"><pre>RandomForestRegressor()</pre></div></div></div><div class=\"sk-serial\"><div class=\"sk-item\"><div class=\"sk-estimator sk-toggleable\"><input class=\"sk-toggleable__control sk-hidden--visually\" id=\"sk-estimator-id-4\" type=\"checkbox\" ><label for=\"sk-estimator-id-4\" class=\"sk-toggleable__label sk-toggleable__label-arrow\">RandomForestRegressor</label><div class=\"sk-toggleable__content\"><pre>RandomForestRegressor()</pre></div></div></div></div></div></div></div></div></div></div>"
      ],
      "text/plain": [
       "GridSearchCV(estimator=RandomForestRegressor(),\n",
       "             param_grid={'criterion': ['squared_error'],\n",
       "                         'max_depth': [10, 20, 30, 40, 50, 60, 70, 80, 90, 100],\n",
       "                         'max_features': ['auto', 'sqrt'],\n",
       "                         'n_estimators': [100, 500]},\n",
       "             scoring='neg_mean_squared_error')"
      ]
     },
     "execution_count": 57,
     "metadata": {},
     "output_type": "execute_result"
    }
   ],
   "source": [
    "grid_rf.fit(x_train,y_train)"
   ]
  },
  {
   "cell_type": "code",
   "execution_count": 58,
   "id": "311807ed",
   "metadata": {},
   "outputs": [
    {
     "data": {
      "text/plain": [
       "{'criterion': 'squared_error',\n",
       " 'max_depth': 60,\n",
       " 'max_features': 'auto',\n",
       " 'n_estimators': 100}"
      ]
     },
     "execution_count": 58,
     "metadata": {},
     "output_type": "execute_result"
    }
   ],
   "source": [
    "grid_rf.best_params_"
   ]
  },
  {
   "cell_type": "code",
   "execution_count": 59,
   "id": "3e760b17",
   "metadata": {},
   "outputs": [],
   "source": [
    "Model1 = RandomForestRegressor(criterion='squared_error',\n",
    " max_depth= 30,\n",
    " max_features='auto',\n",
    " n_estimators=100)"
   ]
  },
  {
   "cell_type": "code",
   "execution_count": 60,
   "id": "7e0b74ef",
   "metadata": {},
   "outputs": [
    {
     "data": {
      "text/html": [
       "<style>#sk-container-id-3 {color: black;background-color: white;}#sk-container-id-3 pre{padding: 0;}#sk-container-id-3 div.sk-toggleable {background-color: white;}#sk-container-id-3 label.sk-toggleable__label {cursor: pointer;display: block;width: 100%;margin-bottom: 0;padding: 0.3em;box-sizing: border-box;text-align: center;}#sk-container-id-3 label.sk-toggleable__label-arrow:before {content: \"▸\";float: left;margin-right: 0.25em;color: #696969;}#sk-container-id-3 label.sk-toggleable__label-arrow:hover:before {color: black;}#sk-container-id-3 div.sk-estimator:hover label.sk-toggleable__label-arrow:before {color: black;}#sk-container-id-3 div.sk-toggleable__content {max-height: 0;max-width: 0;overflow: hidden;text-align: left;background-color: #f0f8ff;}#sk-container-id-3 div.sk-toggleable__content pre {margin: 0.2em;color: black;border-radius: 0.25em;background-color: #f0f8ff;}#sk-container-id-3 input.sk-toggleable__control:checked~div.sk-toggleable__content {max-height: 200px;max-width: 100%;overflow: auto;}#sk-container-id-3 input.sk-toggleable__control:checked~label.sk-toggleable__label-arrow:before {content: \"▾\";}#sk-container-id-3 div.sk-estimator input.sk-toggleable__control:checked~label.sk-toggleable__label {background-color: #d4ebff;}#sk-container-id-3 div.sk-label input.sk-toggleable__control:checked~label.sk-toggleable__label {background-color: #d4ebff;}#sk-container-id-3 input.sk-hidden--visually {border: 0;clip: rect(1px 1px 1px 1px);clip: rect(1px, 1px, 1px, 1px);height: 1px;margin: -1px;overflow: hidden;padding: 0;position: absolute;width: 1px;}#sk-container-id-3 div.sk-estimator {font-family: monospace;background-color: #f0f8ff;border: 1px dotted black;border-radius: 0.25em;box-sizing: border-box;margin-bottom: 0.5em;}#sk-container-id-3 div.sk-estimator:hover {background-color: #d4ebff;}#sk-container-id-3 div.sk-parallel-item::after {content: \"\";width: 100%;border-bottom: 1px solid gray;flex-grow: 1;}#sk-container-id-3 div.sk-label:hover label.sk-toggleable__label {background-color: #d4ebff;}#sk-container-id-3 div.sk-serial::before {content: \"\";position: absolute;border-left: 1px solid gray;box-sizing: border-box;top: 0;bottom: 0;left: 50%;z-index: 0;}#sk-container-id-3 div.sk-serial {display: flex;flex-direction: column;align-items: center;background-color: white;padding-right: 0.2em;padding-left: 0.2em;position: relative;}#sk-container-id-3 div.sk-item {position: relative;z-index: 1;}#sk-container-id-3 div.sk-parallel {display: flex;align-items: stretch;justify-content: center;background-color: white;position: relative;}#sk-container-id-3 div.sk-item::before, #sk-container-id-3 div.sk-parallel-item::before {content: \"\";position: absolute;border-left: 1px solid gray;box-sizing: border-box;top: 0;bottom: 0;left: 50%;z-index: -1;}#sk-container-id-3 div.sk-parallel-item {display: flex;flex-direction: column;z-index: 1;position: relative;background-color: white;}#sk-container-id-3 div.sk-parallel-item:first-child::after {align-self: flex-end;width: 50%;}#sk-container-id-3 div.sk-parallel-item:last-child::after {align-self: flex-start;width: 50%;}#sk-container-id-3 div.sk-parallel-item:only-child::after {width: 0;}#sk-container-id-3 div.sk-dashed-wrapped {border: 1px dashed gray;margin: 0 0.4em 0.5em 0.4em;box-sizing: border-box;padding-bottom: 0.4em;background-color: white;}#sk-container-id-3 div.sk-label label {font-family: monospace;font-weight: bold;display: inline-block;line-height: 1.2em;}#sk-container-id-3 div.sk-label-container {text-align: center;}#sk-container-id-3 div.sk-container {/* jupyter's `normalize.less` sets `[hidden] { display: none; }` but bootstrap.min.css set `[hidden] { display: none !important; }` so we also need the `!important` here to be able to override the default hidden behavior on the sphinx rendered scikit-learn.org. See: https://github.com/scikit-learn/scikit-learn/issues/21755 */display: inline-block !important;position: relative;}#sk-container-id-3 div.sk-text-repr-fallback {display: none;}</style><div id=\"sk-container-id-3\" class=\"sk-top-container\"><div class=\"sk-text-repr-fallback\"><pre>RandomForestRegressor(max_depth=30, max_features=&#x27;auto&#x27;)</pre><b>In a Jupyter environment, please rerun this cell to show the HTML representation or trust the notebook. <br />On GitHub, the HTML representation is unable to render, please try loading this page with nbviewer.org.</b></div><div class=\"sk-container\" hidden><div class=\"sk-item\"><div class=\"sk-estimator sk-toggleable\"><input class=\"sk-toggleable__control sk-hidden--visually\" id=\"sk-estimator-id-5\" type=\"checkbox\" checked><label for=\"sk-estimator-id-5\" class=\"sk-toggleable__label sk-toggleable__label-arrow\">RandomForestRegressor</label><div class=\"sk-toggleable__content\"><pre>RandomForestRegressor(max_depth=30, max_features=&#x27;auto&#x27;)</pre></div></div></div></div></div>"
      ],
      "text/plain": [
       "RandomForestRegressor(max_depth=30, max_features='auto')"
      ]
     },
     "execution_count": 60,
     "metadata": {},
     "output_type": "execute_result"
    }
   ],
   "source": [
    "Model1.fit(x_train,y_train)"
   ]
  },
  {
   "cell_type": "code",
   "execution_count": 61,
   "id": "7865036a",
   "metadata": {},
   "outputs": [],
   "source": [
    "pred=Model1.predict(x_test)"
   ]
  },
  {
   "cell_type": "code",
   "execution_count": 62,
   "id": "7f0406bb",
   "metadata": {},
   "outputs": [],
   "source": [
    "from sklearn.metrics import mean_squared_error,r2_score"
   ]
  },
  {
   "cell_type": "code",
   "execution_count": 63,
   "id": "df40cf42",
   "metadata": {},
   "outputs": [
    {
     "data": {
      "text/plain": [
       "0.9997152424064335"
      ]
     },
     "execution_count": 63,
     "metadata": {},
     "output_type": "execute_result"
    }
   ],
   "source": [
    "Model1.score(x_train,y_train)"
   ]
  },
  {
   "cell_type": "code",
   "execution_count": 64,
   "id": "7fe37f24",
   "metadata": {},
   "outputs": [
    {
     "data": {
      "text/plain": [
       "0.9901326675755726"
      ]
     },
     "execution_count": 64,
     "metadata": {},
     "output_type": "execute_result"
    }
   ],
   "source": [
    "Model1.score(x_test,y_test)"
   ]
  },
  {
   "cell_type": "code",
   "execution_count": 65,
   "id": "40f902a7",
   "metadata": {},
   "outputs": [
    {
     "data": {
      "text/plain": [
       "36040457019.72656"
      ]
     },
     "execution_count": 65,
     "metadata": {},
     "output_type": "execute_result"
    }
   ],
   "source": [
    "mean_squared_error(y_test,pred)"
   ]
  },
  {
   "cell_type": "code",
   "execution_count": 66,
   "id": "66ae5bbd",
   "metadata": {},
   "outputs": [
    {
     "data": {
      "text/plain": [
       "189843.24328173115"
      ]
     },
     "execution_count": 66,
     "metadata": {},
     "output_type": "execute_result"
    }
   ],
   "source": [
    "import math\n",
    "math.sqrt(mean_squared_error(y_test,pred))"
   ]
  },
  {
   "cell_type": "code",
   "execution_count": 67,
   "id": "d5e55331",
   "metadata": {},
   "outputs": [
    {
     "data": {
      "text/plain": [
       "0.9901326675755726"
      ]
     },
     "execution_count": 67,
     "metadata": {},
     "output_type": "execute_result"
    }
   ],
   "source": [
    "r2_score(y_test,pred)"
   ]
  },
  {
   "cell_type": "markdown",
   "id": "0dada0fd",
   "metadata": {},
   "source": [
    "<h4 style=\"color:green\">Conclusion</h4>"
   ]
  },
  {
   "cell_type": "markdown",
   "id": "8618b45b",
   "metadata": {},
   "source": [
    "- R2 : 0.98"
   ]
  },
  {
   "cell_type": "code",
   "execution_count": 68,
   "id": "b6ddca34",
   "metadata": {},
   "outputs": [],
   "source": [
    "import joblib\n",
    "import pickle"
   ]
  },
  {
   "cell_type": "code",
   "execution_count": 69,
   "id": "f6ac9da7",
   "metadata": {},
   "outputs": [],
   "source": [
    "one_hot = joblib.dump(ohe,\"one_hot.joblib\")"
   ]
  },
  {
   "cell_type": "code",
   "execution_count": 70,
   "id": "b1ebc094",
   "metadata": {},
   "outputs": [],
   "source": [
    "model = joblib.dump(Model1,\"model.pkl\")"
   ]
  },
  {
   "cell_type": "code",
   "execution_count": 71,
   "id": "7d97e777",
   "metadata": {},
   "outputs": [
    {
     "name": "stdout",
     "output_type": "stream",
     "text": [
      " Volume in drive C has no label.\n",
      " Volume Serial Number is 8E56-AFA1\n",
      "\n",
      " Directory of C:\\Users\\HARI KISHAN\\cat\n",
      "\n",
      "27-09-2022  14:17    <DIR>          .\n",
      "27-09-2022  14:08    <DIR>          ..\n",
      "27-09-2022  14:13    <DIR>          .ipynb_checkpoints\n",
      "27-09-2022  13:10             1,408 app.py\n",
      "27-09-2022  14:13           417,508 CarPrice Prediction.ipynb\n",
      "07-08-2022  09:04           433,214 Dataset.csv\n",
      "27-09-2022  14:08    <DIR>          his\n",
      "27-09-2022  14:17         3,856,334 model.pkl\n",
      "27-09-2022  14:17             4,412 one_hot.joblib\n",
      "27-09-2022  14:10    <DIR>          templates\n",
      "               5 File(s)      4,712,876 bytes\n",
      "               5 Dir(s)  194,598,682,624 bytes free\n"
     ]
    }
   ],
   "source": [
    "ls"
   ]
  },
  {
   "cell_type": "code",
   "execution_count": 72,
   "id": "cd817a75",
   "metadata": {},
   "outputs": [
    {
     "data": {
      "text/html": [
       "<style>#sk-container-id-4 {color: black;background-color: white;}#sk-container-id-4 pre{padding: 0;}#sk-container-id-4 div.sk-toggleable {background-color: white;}#sk-container-id-4 label.sk-toggleable__label {cursor: pointer;display: block;width: 100%;margin-bottom: 0;padding: 0.3em;box-sizing: border-box;text-align: center;}#sk-container-id-4 label.sk-toggleable__label-arrow:before {content: \"▸\";float: left;margin-right: 0.25em;color: #696969;}#sk-container-id-4 label.sk-toggleable__label-arrow:hover:before {color: black;}#sk-container-id-4 div.sk-estimator:hover label.sk-toggleable__label-arrow:before {color: black;}#sk-container-id-4 div.sk-toggleable__content {max-height: 0;max-width: 0;overflow: hidden;text-align: left;background-color: #f0f8ff;}#sk-container-id-4 div.sk-toggleable__content pre {margin: 0.2em;color: black;border-radius: 0.25em;background-color: #f0f8ff;}#sk-container-id-4 input.sk-toggleable__control:checked~div.sk-toggleable__content {max-height: 200px;max-width: 100%;overflow: auto;}#sk-container-id-4 input.sk-toggleable__control:checked~label.sk-toggleable__label-arrow:before {content: \"▾\";}#sk-container-id-4 div.sk-estimator input.sk-toggleable__control:checked~label.sk-toggleable__label {background-color: #d4ebff;}#sk-container-id-4 div.sk-label input.sk-toggleable__control:checked~label.sk-toggleable__label {background-color: #d4ebff;}#sk-container-id-4 input.sk-hidden--visually {border: 0;clip: rect(1px 1px 1px 1px);clip: rect(1px, 1px, 1px, 1px);height: 1px;margin: -1px;overflow: hidden;padding: 0;position: absolute;width: 1px;}#sk-container-id-4 div.sk-estimator {font-family: monospace;background-color: #f0f8ff;border: 1px dotted black;border-radius: 0.25em;box-sizing: border-box;margin-bottom: 0.5em;}#sk-container-id-4 div.sk-estimator:hover {background-color: #d4ebff;}#sk-container-id-4 div.sk-parallel-item::after {content: \"\";width: 100%;border-bottom: 1px solid gray;flex-grow: 1;}#sk-container-id-4 div.sk-label:hover label.sk-toggleable__label {background-color: #d4ebff;}#sk-container-id-4 div.sk-serial::before {content: \"\";position: absolute;border-left: 1px solid gray;box-sizing: border-box;top: 0;bottom: 0;left: 50%;z-index: 0;}#sk-container-id-4 div.sk-serial {display: flex;flex-direction: column;align-items: center;background-color: white;padding-right: 0.2em;padding-left: 0.2em;position: relative;}#sk-container-id-4 div.sk-item {position: relative;z-index: 1;}#sk-container-id-4 div.sk-parallel {display: flex;align-items: stretch;justify-content: center;background-color: white;position: relative;}#sk-container-id-4 div.sk-item::before, #sk-container-id-4 div.sk-parallel-item::before {content: \"\";position: absolute;border-left: 1px solid gray;box-sizing: border-box;top: 0;bottom: 0;left: 50%;z-index: -1;}#sk-container-id-4 div.sk-parallel-item {display: flex;flex-direction: column;z-index: 1;position: relative;background-color: white;}#sk-container-id-4 div.sk-parallel-item:first-child::after {align-self: flex-end;width: 50%;}#sk-container-id-4 div.sk-parallel-item:last-child::after {align-self: flex-start;width: 50%;}#sk-container-id-4 div.sk-parallel-item:only-child::after {width: 0;}#sk-container-id-4 div.sk-dashed-wrapped {border: 1px dashed gray;margin: 0 0.4em 0.5em 0.4em;box-sizing: border-box;padding-bottom: 0.4em;background-color: white;}#sk-container-id-4 div.sk-label label {font-family: monospace;font-weight: bold;display: inline-block;line-height: 1.2em;}#sk-container-id-4 div.sk-label-container {text-align: center;}#sk-container-id-4 div.sk-container {/* jupyter's `normalize.less` sets `[hidden] { display: none; }` but bootstrap.min.css set `[hidden] { display: none !important; }` so we also need the `!important` here to be able to override the default hidden behavior on the sphinx rendered scikit-learn.org. See: https://github.com/scikit-learn/scikit-learn/issues/21755 */display: inline-block !important;position: relative;}#sk-container-id-4 div.sk-text-repr-fallback {display: none;}</style><div id=\"sk-container-id-4\" class=\"sk-top-container\"><div class=\"sk-text-repr-fallback\"><pre>OneHotEncoder(handle_unknown=&#x27;ignore&#x27;, sparse=False)</pre><b>In a Jupyter environment, please rerun this cell to show the HTML representation or trust the notebook. <br />On GitHub, the HTML representation is unable to render, please try loading this page with nbviewer.org.</b></div><div class=\"sk-container\" hidden><div class=\"sk-item\"><div class=\"sk-estimator sk-toggleable\"><input class=\"sk-toggleable__control sk-hidden--visually\" id=\"sk-estimator-id-6\" type=\"checkbox\" checked><label for=\"sk-estimator-id-6\" class=\"sk-toggleable__label sk-toggleable__label-arrow\">OneHotEncoder</label><div class=\"sk-toggleable__content\"><pre>OneHotEncoder(handle_unknown=&#x27;ignore&#x27;, sparse=False)</pre></div></div></div></div></div>"
      ],
      "text/plain": [
       "OneHotEncoder(handle_unknown='ignore', sparse=False)"
      ]
     },
     "execution_count": 72,
     "metadata": {},
     "output_type": "execute_result"
    }
   ],
   "source": [
    "ones = joblib.load(\"one_hot.joblib\")\n",
    "ones"
   ]
  },
  {
   "cell_type": "code",
   "execution_count": 73,
   "id": "580d7d56",
   "metadata": {},
   "outputs": [
    {
     "data": {
      "text/html": [
       "<style>#sk-container-id-5 {color: black;background-color: white;}#sk-container-id-5 pre{padding: 0;}#sk-container-id-5 div.sk-toggleable {background-color: white;}#sk-container-id-5 label.sk-toggleable__label {cursor: pointer;display: block;width: 100%;margin-bottom: 0;padding: 0.3em;box-sizing: border-box;text-align: center;}#sk-container-id-5 label.sk-toggleable__label-arrow:before {content: \"▸\";float: left;margin-right: 0.25em;color: #696969;}#sk-container-id-5 label.sk-toggleable__label-arrow:hover:before {color: black;}#sk-container-id-5 div.sk-estimator:hover label.sk-toggleable__label-arrow:before {color: black;}#sk-container-id-5 div.sk-toggleable__content {max-height: 0;max-width: 0;overflow: hidden;text-align: left;background-color: #f0f8ff;}#sk-container-id-5 div.sk-toggleable__content pre {margin: 0.2em;color: black;border-radius: 0.25em;background-color: #f0f8ff;}#sk-container-id-5 input.sk-toggleable__control:checked~div.sk-toggleable__content {max-height: 200px;max-width: 100%;overflow: auto;}#sk-container-id-5 input.sk-toggleable__control:checked~label.sk-toggleable__label-arrow:before {content: \"▾\";}#sk-container-id-5 div.sk-estimator input.sk-toggleable__control:checked~label.sk-toggleable__label {background-color: #d4ebff;}#sk-container-id-5 div.sk-label input.sk-toggleable__control:checked~label.sk-toggleable__label {background-color: #d4ebff;}#sk-container-id-5 input.sk-hidden--visually {border: 0;clip: rect(1px 1px 1px 1px);clip: rect(1px, 1px, 1px, 1px);height: 1px;margin: -1px;overflow: hidden;padding: 0;position: absolute;width: 1px;}#sk-container-id-5 div.sk-estimator {font-family: monospace;background-color: #f0f8ff;border: 1px dotted black;border-radius: 0.25em;box-sizing: border-box;margin-bottom: 0.5em;}#sk-container-id-5 div.sk-estimator:hover {background-color: #d4ebff;}#sk-container-id-5 div.sk-parallel-item::after {content: \"\";width: 100%;border-bottom: 1px solid gray;flex-grow: 1;}#sk-container-id-5 div.sk-label:hover label.sk-toggleable__label {background-color: #d4ebff;}#sk-container-id-5 div.sk-serial::before {content: \"\";position: absolute;border-left: 1px solid gray;box-sizing: border-box;top: 0;bottom: 0;left: 50%;z-index: 0;}#sk-container-id-5 div.sk-serial {display: flex;flex-direction: column;align-items: center;background-color: white;padding-right: 0.2em;padding-left: 0.2em;position: relative;}#sk-container-id-5 div.sk-item {position: relative;z-index: 1;}#sk-container-id-5 div.sk-parallel {display: flex;align-items: stretch;justify-content: center;background-color: white;position: relative;}#sk-container-id-5 div.sk-item::before, #sk-container-id-5 div.sk-parallel-item::before {content: \"\";position: absolute;border-left: 1px solid gray;box-sizing: border-box;top: 0;bottom: 0;left: 50%;z-index: -1;}#sk-container-id-5 div.sk-parallel-item {display: flex;flex-direction: column;z-index: 1;position: relative;background-color: white;}#sk-container-id-5 div.sk-parallel-item:first-child::after {align-self: flex-end;width: 50%;}#sk-container-id-5 div.sk-parallel-item:last-child::after {align-self: flex-start;width: 50%;}#sk-container-id-5 div.sk-parallel-item:only-child::after {width: 0;}#sk-container-id-5 div.sk-dashed-wrapped {border: 1px dashed gray;margin: 0 0.4em 0.5em 0.4em;box-sizing: border-box;padding-bottom: 0.4em;background-color: white;}#sk-container-id-5 div.sk-label label {font-family: monospace;font-weight: bold;display: inline-block;line-height: 1.2em;}#sk-container-id-5 div.sk-label-container {text-align: center;}#sk-container-id-5 div.sk-container {/* jupyter's `normalize.less` sets `[hidden] { display: none; }` but bootstrap.min.css set `[hidden] { display: none !important; }` so we also need the `!important` here to be able to override the default hidden behavior on the sphinx rendered scikit-learn.org. See: https://github.com/scikit-learn/scikit-learn/issues/21755 */display: inline-block !important;position: relative;}#sk-container-id-5 div.sk-text-repr-fallback {display: none;}</style><div id=\"sk-container-id-5\" class=\"sk-top-container\"><div class=\"sk-text-repr-fallback\"><pre>RandomForestRegressor(max_depth=30, max_features=&#x27;auto&#x27;)</pre><b>In a Jupyter environment, please rerun this cell to show the HTML representation or trust the notebook. <br />On GitHub, the HTML representation is unable to render, please try loading this page with nbviewer.org.</b></div><div class=\"sk-container\" hidden><div class=\"sk-item\"><div class=\"sk-estimator sk-toggleable\"><input class=\"sk-toggleable__control sk-hidden--visually\" id=\"sk-estimator-id-7\" type=\"checkbox\" checked><label for=\"sk-estimator-id-7\" class=\"sk-toggleable__label sk-toggleable__label-arrow\">RandomForestRegressor</label><div class=\"sk-toggleable__content\"><pre>RandomForestRegressor(max_depth=30, max_features=&#x27;auto&#x27;)</pre></div></div></div></div></div>"
      ],
      "text/plain": [
       "RandomForestRegressor(max_depth=30, max_features='auto')"
      ]
     },
     "execution_count": 73,
     "metadata": {},
     "output_type": "execute_result"
    }
   ],
   "source": [
    "mod = joblib.load(\"model.pkl\")\n",
    "mod"
   ]
  },
  {
   "cell_type": "code",
   "execution_count": 74,
   "id": "eef91224",
   "metadata": {},
   "outputs": [
    {
     "data": {
      "text/html": [
       "<div>\n",
       "<style scoped>\n",
       "    .dataframe tbody tr th:only-of-type {\n",
       "        vertical-align: middle;\n",
       "    }\n",
       "\n",
       "    .dataframe tbody tr th {\n",
       "        vertical-align: top;\n",
       "    }\n",
       "\n",
       "    .dataframe thead th {\n",
       "        text-align: right;\n",
       "    }\n",
       "</style>\n",
       "<table border=\"1\" class=\"dataframe\">\n",
       "  <thead>\n",
       "    <tr style=\"text-align: right;\">\n",
       "      <th></th>\n",
       "      <th>brand</th>\n",
       "      <th>model_name</th>\n",
       "      <th>fuel_type</th>\n",
       "      <th>city</th>\n",
       "      <th>year</th>\n",
       "      <th>price</th>\n",
       "      <th>distance_travelled(kms)</th>\n",
       "      <th>car_age</th>\n",
       "      <th>new and less used</th>\n",
       "      <th>inv_car_price</th>\n",
       "      <th>inv_car_dist</th>\n",
       "      <th>inv_car_age</th>\n",
       "      <th>std_invprice</th>\n",
       "      <th>std_invdistance_travelled</th>\n",
       "      <th>std_invrank</th>\n",
       "      <th>best_buy1</th>\n",
       "    </tr>\n",
       "  </thead>\n",
       "  <tbody>\n",
       "    <tr>\n",
       "      <th>0</th>\n",
       "      <td>Honda</td>\n",
       "      <td>Brio</td>\n",
       "      <td>Petrol</td>\n",
       "      <td>Mumbai</td>\n",
       "      <td>2016</td>\n",
       "      <td>425000.0</td>\n",
       "      <td>9680.0</td>\n",
       "      <td>5.0</td>\n",
       "      <td>0</td>\n",
       "      <td>0.000002</td>\n",
       "      <td>0.000103</td>\n",
       "      <td>0.2</td>\n",
       "      <td>0.143417</td>\n",
       "      <td>0.03573</td>\n",
       "      <td>0.132143</td>\n",
       "      <td>677.134239</td>\n",
       "    </tr>\n",
       "  </tbody>\n",
       "</table>\n",
       "</div>"
      ],
      "text/plain": [
       "   brand model_name fuel_type    city  year     price  \\\n",
       "0  Honda       Brio    Petrol  Mumbai  2016  425000.0   \n",
       "\n",
       "   distance_travelled(kms)  car_age  new and less used  inv_car_price  \\\n",
       "0                   9680.0      5.0                  0       0.000002   \n",
       "\n",
       "   inv_car_dist  inv_car_age  std_invprice  std_invdistance_travelled  \\\n",
       "0      0.000103          0.2      0.143417                    0.03573   \n",
       "\n",
       "   std_invrank   best_buy1  \n",
       "0     0.132143  677.134239  "
      ]
     },
     "execution_count": 74,
     "metadata": {},
     "output_type": "execute_result"
    }
   ],
   "source": [
    "x1=df.head(1)\n",
    "x1"
   ]
  },
  {
   "cell_type": "code",
   "execution_count": 75,
   "id": "c9030305",
   "metadata": {},
   "outputs": [
    {
     "data": {
      "text/plain": [
       "(1, 16)"
      ]
     },
     "execution_count": 75,
     "metadata": {},
     "output_type": "execute_result"
    }
   ],
   "source": [
    "x1.shape"
   ]
  },
  {
   "cell_type": "code",
   "execution_count": 76,
   "id": "1c3a31ef",
   "metadata": {},
   "outputs": [
    {
     "data": {
      "text/html": [
       "<div>\n",
       "<style scoped>\n",
       "    .dataframe tbody tr th:only-of-type {\n",
       "        vertical-align: middle;\n",
       "    }\n",
       "\n",
       "    .dataframe tbody tr th {\n",
       "        vertical-align: top;\n",
       "    }\n",
       "\n",
       "    .dataframe thead th {\n",
       "        text-align: right;\n",
       "    }\n",
       "</style>\n",
       "<table border=\"1\" class=\"dataframe\">\n",
       "  <thead>\n",
       "    <tr style=\"text-align: right;\">\n",
       "      <th></th>\n",
       "      <th>brand</th>\n",
       "      <th>model_name</th>\n",
       "      <th>fuel_type</th>\n",
       "      <th>city</th>\n",
       "    </tr>\n",
       "  </thead>\n",
       "  <tbody>\n",
       "    <tr>\n",
       "      <th>0</th>\n",
       "      <td>Honda</td>\n",
       "      <td>Brio</td>\n",
       "      <td>Petrol</td>\n",
       "      <td>Mumbai</td>\n",
       "    </tr>\n",
       "  </tbody>\n",
       "</table>\n",
       "</div>"
      ],
      "text/plain": [
       "   brand model_name fuel_type    city\n",
       "0  Honda       Brio    Petrol  Mumbai"
      ]
     },
     "execution_count": 76,
     "metadata": {},
     "output_type": "execute_result"
    }
   ],
   "source": [
    "x1.iloc[:,:4]"
   ]
  },
  {
   "cell_type": "code",
   "execution_count": 77,
   "id": "544aa869",
   "metadata": {},
   "outputs": [
    {
     "data": {
      "text/html": [
       "<div>\n",
       "<style scoped>\n",
       "    .dataframe tbody tr th:only-of-type {\n",
       "        vertical-align: middle;\n",
       "    }\n",
       "\n",
       "    .dataframe tbody tr th {\n",
       "        vertical-align: top;\n",
       "    }\n",
       "\n",
       "    .dataframe thead th {\n",
       "        text-align: right;\n",
       "    }\n",
       "</style>\n",
       "<table border=\"1\" class=\"dataframe\">\n",
       "  <thead>\n",
       "    <tr style=\"text-align: right;\">\n",
       "      <th></th>\n",
       "      <th>year</th>\n",
       "      <th>price</th>\n",
       "      <th>distance_travelled(kms)</th>\n",
       "      <th>car_age</th>\n",
       "      <th>new and less used</th>\n",
       "      <th>inv_car_price</th>\n",
       "      <th>inv_car_dist</th>\n",
       "      <th>inv_car_age</th>\n",
       "      <th>std_invprice</th>\n",
       "      <th>std_invdistance_travelled</th>\n",
       "      <th>std_invrank</th>\n",
       "      <th>best_buy1</th>\n",
       "    </tr>\n",
       "  </thead>\n",
       "  <tbody>\n",
       "    <tr>\n",
       "      <th>0</th>\n",
       "      <td>2016</td>\n",
       "      <td>425000.0</td>\n",
       "      <td>9680.0</td>\n",
       "      <td>5.0</td>\n",
       "      <td>0</td>\n",
       "      <td>0.000002</td>\n",
       "      <td>0.000103</td>\n",
       "      <td>0.2</td>\n",
       "      <td>0.143417</td>\n",
       "      <td>0.03573</td>\n",
       "      <td>0.132143</td>\n",
       "      <td>677.134239</td>\n",
       "    </tr>\n",
       "  </tbody>\n",
       "</table>\n",
       "</div>"
      ],
      "text/plain": [
       "   year     price  distance_travelled(kms)  car_age  new and less used  \\\n",
       "0  2016  425000.0                   9680.0      5.0                  0   \n",
       "\n",
       "   inv_car_price  inv_car_dist  inv_car_age  std_invprice  \\\n",
       "0       0.000002      0.000103          0.2      0.143417   \n",
       "\n",
       "   std_invdistance_travelled  std_invrank   best_buy1  \n",
       "0                    0.03573     0.132143  677.134239  "
      ]
     },
     "execution_count": 77,
     "metadata": {},
     "output_type": "execute_result"
    }
   ],
   "source": [
    "x1.iloc[:,4:]"
   ]
  },
  {
   "cell_type": "code",
   "execution_count": 78,
   "id": "b14a80f5",
   "metadata": {},
   "outputs": [
    {
     "data": {
      "text/plain": [
       "array([[0., 0., 0., 0., 0., 0., 0., 1., 0., 0., 0., 0., 0., 0., 0., 0.,\n",
       "        0., 0., 0., 0., 0., 0., 0., 0., 0., 0., 0., 0., 0., 0., 0., 0.,\n",
       "        0., 0., 0., 0., 0., 0., 0., 0., 0., 0., 0., 0., 0., 0., 0., 0.,\n",
       "        0., 0., 0., 0., 0., 0., 0., 0., 0., 0., 0., 1., 0., 0., 0., 0.,\n",
       "        0., 0., 0., 0., 0., 0., 0., 0., 0., 0., 0., 0., 0., 0., 0., 0.,\n",
       "        0., 0., 0., 0., 0., 0., 0., 0., 0., 0., 0., 0., 0., 0., 0., 0.,\n",
       "        0., 0., 0., 0., 0., 0., 0., 0., 0., 0., 0., 0., 0., 0., 0., 0.,\n",
       "        0., 0., 0., 0., 0., 0., 0., 0., 0., 0., 0., 0., 0., 0., 0., 0.,\n",
       "        0., 0., 0., 0., 0., 0., 0., 0., 0., 0., 0., 0., 0., 0., 0., 0.,\n",
       "        0., 0., 0., 0., 0., 0., 0., 0., 0., 0., 0., 0., 0., 0., 0., 0.,\n",
       "        0., 0., 0., 0., 0., 0., 0., 0., 0., 0., 0., 0., 0., 0., 0., 0.,\n",
       "        0., 0., 0., 0., 0., 0., 0., 0., 0., 0., 0., 0., 0., 0., 0., 0.,\n",
       "        0., 0., 0., 0., 0., 0., 0., 0., 0., 0., 1., 0., 0., 0., 0., 0.,\n",
       "        0., 0., 0., 0., 0., 1., 0., 0., 0., 0., 0.]])"
      ]
     },
     "execution_count": 78,
     "metadata": {},
     "output_type": "execute_result"
    }
   ],
   "source": [
    "liss=ones.transform(x1.iloc[:,:4])\n",
    "liss"
   ]
  },
  {
   "cell_type": "code",
   "execution_count": 79,
   "id": "1a0cdd0f",
   "metadata": {},
   "outputs": [
    {
     "data": {
      "text/plain": [
       "array(['brand_Audi', 'brand_BMW', 'brand_Bentley', 'brand_Chevrolet',\n",
       "       'brand_Datsun', 'brand_Fiat', 'brand_Ford', 'brand_Honda',\n",
       "       'brand_Hyundai', 'brand_Isuzu', 'brand_Jaguar', 'brand_Jeep',\n",
       "       'brand_Kia', 'brand_Lamborghini', 'brand_Land Rover',\n",
       "       'brand_Lexus', 'brand_MG', 'brand_MINI', 'brand_Mahindra',\n",
       "       'brand_Mahindra-Renault', 'brand_Maruti Suzuki',\n",
       "       'brand_Mercedes-Benz', 'brand_Mitsubishi', 'brand_Nissan',\n",
       "       'brand_Porsche', 'brand_Renault', 'brand_Skoda', 'brand_Tata',\n",
       "       'brand_Toyota', 'brand_Volkswagen', 'brand_Volvo', 'model_name_3',\n",
       "       'model_name_3.0', 'model_name_4.4', 'model_name_5', 'model_name_6',\n",
       "       'model_name_7', 'model_name_718', 'model_name_A-Class',\n",
       "       'model_name_A-Star', 'model_name_A3', 'model_name_A4',\n",
       "       'model_name_A6', 'model_name_A8', 'model_name_Abarth',\n",
       "       'model_name_Accord', 'model_name_Alto', 'model_name_Altroz',\n",
       "       'model_name_Alturas', 'model_name_Amaze', 'model_name_Ameo',\n",
       "       'model_name_Aria', 'model_name_Aspire', 'model_name_Avventura',\n",
       "       'model_name_B-Class', 'model_name_BR-V', 'model_name_Baleno',\n",
       "       'model_name_Beat', 'model_name_Bolero', 'model_name_Brio',\n",
       "       'model_name_C-Class', 'model_name_CLA', 'model_name_CLS',\n",
       "       'model_name_CR-V', 'model_name_Camry', 'model_name_Captur',\n",
       "       'model_name_Cayenne', 'model_name_Celerio', 'model_name_Ciaz',\n",
       "       'model_name_City', 'model_name_Civic', 'model_name_Compass',\n",
       "       'model_name_Continental', 'model_name_Cooper',\n",
       "       'model_name_Corolla', 'model_name_Countryman', 'model_name_Creta',\n",
       "       'model_name_Cross', 'model_name_Cruze', 'model_name_Discovery',\n",
       "       'model_name_Duster', 'model_name_Dzire', 'model_name_E-Class',\n",
       "       'model_name_ES', 'model_name_EcoSport', 'model_name_Eeco',\n",
       "       'model_name_Elantra', 'model_name_Elite', 'model_name_Endeavour',\n",
       "       'model_name_Enjoy', 'model_name_Eon', 'model_name_Ertiga',\n",
       "       'model_name_Estilo', 'model_name_Etios', 'model_name_Evoque',\n",
       "       'model_name_F-Pace', 'model_name_Fabia', 'model_name_Fiesta',\n",
       "       'model_name_Figo', 'model_name_Fluidic', 'model_name_Fortuner',\n",
       "       'model_name_Freelander', 'model_name_Freestyle',\n",
       "       'model_name_G-Class', 'model_name_GL', 'model_name_GLA',\n",
       "       'model_name_GLC', 'model_name_GLE', 'model_name_GLS',\n",
       "       'model_name_GO', 'model_name_Gallardo', 'model_name_Glanza',\n",
       "       'model_name_Grand', 'model_name_Harrier', 'model_name_Hector',\n",
       "       'model_name_Hexa', 'model_name_Ignis', 'model_name_Indica',\n",
       "       'model_name_Innova', 'model_name_Jazz', 'model_name_Jeep',\n",
       "       'model_name_Jetta', 'model_name_KUV100', 'model_name_Kwid',\n",
       "       'model_name_Land', 'model_name_Laura', 'model_name_Lodgy',\n",
       "       'model_name_Logan', 'model_name_M-Class', 'model_name_MU-X',\n",
       "       'model_name_Micra', 'model_name_Mustang', 'model_name_NX',\n",
       "       'model_name_Nano', 'model_name_Nexon', 'model_name_Octavia',\n",
       "       'model_name_Outlander', 'model_name_Pajero', 'model_name_Passat',\n",
       "       'model_name_Polo', 'model_name_Pulse', 'model_name_Q3',\n",
       "       'model_name_Q5', 'model_name_Q7', 'model_name_Qualis',\n",
       "       'model_name_Quanto', 'model_name_Rapid', 'model_name_Ritz',\n",
       "       'model_name_S-Class', 'model_name_S-Cross', 'model_name_S60',\n",
       "       'model_name_S90', 'model_name_SLK', 'model_name_SX4',\n",
       "       'model_name_Safari', 'model_name_Santro', 'model_name_Scorpio',\n",
       "       'model_name_Seltos', 'model_name_Sonet', 'model_name_Sport',\n",
       "       'model_name_Sunny', 'model_name_Superb', 'model_name_Swift',\n",
       "       'model_name_TUV300', 'model_name_Terrano', 'model_name_Thar',\n",
       "       'model_name_Tiago', 'model_name_Tigor', 'model_name_Tiguan',\n",
       "       'model_name_Triber', 'model_name_Tucson', 'model_name_V40',\n",
       "       'model_name_Vento', 'model_name_Venue', 'model_name_Verito',\n",
       "       'model_name_Verna', 'model_name_Vitara', 'model_name_WR-V',\n",
       "       'model_name_Wagon', 'model_name_X1', 'model_name_X3',\n",
       "       'model_name_X4', 'model_name_X5', 'model_name_X7',\n",
       "       'model_name_XC60', 'model_name_XC90', 'model_name_XE',\n",
       "       'model_name_XF', 'model_name_XJ', 'model_name_XL6',\n",
       "       'model_name_XUV300', 'model_name_XUV500', 'model_name_Xcent',\n",
       "       'model_name_Yaris', 'model_name_Yeti', 'model_name_Z4',\n",
       "       'model_name_Zest', 'model_name_i10', 'model_name_i20',\n",
       "       'model_name_redi-GO', 'fuel_type_CNG + 1', 'fuel_type_Diesel',\n",
       "       'fuel_type_Petrol', 'fuel_type_Petrol + 1', 'city_Agra',\n",
       "       'city_Bangalore', 'city_Chennai', 'city_Dehradun', 'city_Delhi',\n",
       "       'city_Faridabad', 'city_Ghaziabad', 'city_Hyderabad',\n",
       "       'city_Lucknow', 'city_Mumbai', 'city_Navi Mumbai', 'city_Noida',\n",
       "       'city_Panchkula', 'city_Pune', 'city_Thane'], dtype=object)"
      ]
     },
     "execution_count": 79,
     "metadata": {},
     "output_type": "execute_result"
    }
   ],
   "source": [
    "coll=ones.get_feature_names_out()\n",
    "coll"
   ]
  },
  {
   "cell_type": "code",
   "execution_count": 80,
   "id": "ad5d2af7",
   "metadata": {},
   "outputs": [
    {
     "data": {
      "text/html": [
       "<div>\n",
       "<style scoped>\n",
       "    .dataframe tbody tr th:only-of-type {\n",
       "        vertical-align: middle;\n",
       "    }\n",
       "\n",
       "    .dataframe tbody tr th {\n",
       "        vertical-align: top;\n",
       "    }\n",
       "\n",
       "    .dataframe thead th {\n",
       "        text-align: right;\n",
       "    }\n",
       "</style>\n",
       "<table border=\"1\" class=\"dataframe\">\n",
       "  <thead>\n",
       "    <tr style=\"text-align: right;\">\n",
       "      <th></th>\n",
       "      <th>brand_Audi</th>\n",
       "      <th>brand_BMW</th>\n",
       "      <th>brand_Bentley</th>\n",
       "      <th>brand_Chevrolet</th>\n",
       "      <th>brand_Datsun</th>\n",
       "      <th>brand_Fiat</th>\n",
       "      <th>brand_Ford</th>\n",
       "      <th>brand_Honda</th>\n",
       "      <th>brand_Hyundai</th>\n",
       "      <th>brand_Isuzu</th>\n",
       "      <th>...</th>\n",
       "      <th>city_Faridabad</th>\n",
       "      <th>city_Ghaziabad</th>\n",
       "      <th>city_Hyderabad</th>\n",
       "      <th>city_Lucknow</th>\n",
       "      <th>city_Mumbai</th>\n",
       "      <th>city_Navi Mumbai</th>\n",
       "      <th>city_Noida</th>\n",
       "      <th>city_Panchkula</th>\n",
       "      <th>city_Pune</th>\n",
       "      <th>city_Thane</th>\n",
       "    </tr>\n",
       "  </thead>\n",
       "  <tbody>\n",
       "    <tr>\n",
       "      <th>0</th>\n",
       "      <td>0.0</td>\n",
       "      <td>0.0</td>\n",
       "      <td>0.0</td>\n",
       "      <td>0.0</td>\n",
       "      <td>0.0</td>\n",
       "      <td>0.0</td>\n",
       "      <td>0.0</td>\n",
       "      <td>1.0</td>\n",
       "      <td>0.0</td>\n",
       "      <td>0.0</td>\n",
       "      <td>...</td>\n",
       "      <td>0.0</td>\n",
       "      <td>0.0</td>\n",
       "      <td>0.0</td>\n",
       "      <td>0.0</td>\n",
       "      <td>1.0</td>\n",
       "      <td>0.0</td>\n",
       "      <td>0.0</td>\n",
       "      <td>0.0</td>\n",
       "      <td>0.0</td>\n",
       "      <td>0.0</td>\n",
       "    </tr>\n",
       "  </tbody>\n",
       "</table>\n",
       "<p>1 rows × 219 columns</p>\n",
       "</div>"
      ],
      "text/plain": [
       "   brand_Audi  brand_BMW  brand_Bentley  brand_Chevrolet  brand_Datsun  \\\n",
       "0         0.0        0.0            0.0              0.0           0.0   \n",
       "\n",
       "   brand_Fiat  brand_Ford  brand_Honda  brand_Hyundai  brand_Isuzu  ...  \\\n",
       "0         0.0         0.0          1.0            0.0          0.0  ...   \n",
       "\n",
       "   city_Faridabad  city_Ghaziabad  city_Hyderabad  city_Lucknow  city_Mumbai  \\\n",
       "0             0.0             0.0             0.0           0.0          1.0   \n",
       "\n",
       "   city_Navi Mumbai  city_Noida  city_Panchkula  city_Pune  city_Thane  \n",
       "0               0.0         0.0             0.0        0.0         0.0  \n",
       "\n",
       "[1 rows x 219 columns]"
      ]
     },
     "execution_count": 80,
     "metadata": {},
     "output_type": "execute_result"
    }
   ],
   "source": [
    "dd = pd.DataFrame(liss,columns=coll)\n",
    "dd"
   ]
  },
  {
   "cell_type": "code",
   "execution_count": 81,
   "id": "a8a82ed0",
   "metadata": {},
   "outputs": [
    {
     "data": {
      "text/html": [
       "<div>\n",
       "<style scoped>\n",
       "    .dataframe tbody tr th:only-of-type {\n",
       "        vertical-align: middle;\n",
       "    }\n",
       "\n",
       "    .dataframe tbody tr th {\n",
       "        vertical-align: top;\n",
       "    }\n",
       "\n",
       "    .dataframe thead th {\n",
       "        text-align: right;\n",
       "    }\n",
       "</style>\n",
       "<table border=\"1\" class=\"dataframe\">\n",
       "  <thead>\n",
       "    <tr style=\"text-align: right;\">\n",
       "      <th></th>\n",
       "      <th>year</th>\n",
       "      <th>price</th>\n",
       "      <th>distance_travelled(kms)</th>\n",
       "      <th>car_age</th>\n",
       "      <th>new and less used</th>\n",
       "      <th>inv_car_price</th>\n",
       "      <th>inv_car_dist</th>\n",
       "      <th>inv_car_age</th>\n",
       "      <th>std_invprice</th>\n",
       "      <th>std_invdistance_travelled</th>\n",
       "      <th>std_invrank</th>\n",
       "      <th>best_buy1</th>\n",
       "    </tr>\n",
       "  </thead>\n",
       "  <tbody>\n",
       "    <tr>\n",
       "      <th>0</th>\n",
       "      <td>2016</td>\n",
       "      <td>425000.0</td>\n",
       "      <td>9680.0</td>\n",
       "      <td>5.0</td>\n",
       "      <td>0</td>\n",
       "      <td>0.000002</td>\n",
       "      <td>0.000103</td>\n",
       "      <td>0.2</td>\n",
       "      <td>0.143417</td>\n",
       "      <td>0.03573</td>\n",
       "      <td>0.132143</td>\n",
       "      <td>677.134239</td>\n",
       "    </tr>\n",
       "  </tbody>\n",
       "</table>\n",
       "</div>"
      ],
      "text/plain": [
       "   year     price  distance_travelled(kms)  car_age  new and less used  \\\n",
       "0  2016  425000.0                   9680.0      5.0                  0   \n",
       "\n",
       "   inv_car_price  inv_car_dist  inv_car_age  std_invprice  \\\n",
       "0       0.000002      0.000103          0.2      0.143417   \n",
       "\n",
       "   std_invdistance_travelled  std_invrank   best_buy1  \n",
       "0                    0.03573     0.132143  677.134239  "
      ]
     },
     "execution_count": 81,
     "metadata": {},
     "output_type": "execute_result"
    }
   ],
   "source": [
    "dd1=x1.iloc[:,4:]\n",
    "dd1"
   ]
  },
  {
   "cell_type": "code",
   "execution_count": 82,
   "id": "3cc65634",
   "metadata": {},
   "outputs": [
    {
     "data": {
      "text/html": [
       "<div>\n",
       "<style scoped>\n",
       "    .dataframe tbody tr th:only-of-type {\n",
       "        vertical-align: middle;\n",
       "    }\n",
       "\n",
       "    .dataframe tbody tr th {\n",
       "        vertical-align: top;\n",
       "    }\n",
       "\n",
       "    .dataframe thead th {\n",
       "        text-align: right;\n",
       "    }\n",
       "</style>\n",
       "<table border=\"1\" class=\"dataframe\">\n",
       "  <thead>\n",
       "    <tr style=\"text-align: right;\">\n",
       "      <th></th>\n",
       "      <th>brand_Audi</th>\n",
       "      <th>brand_BMW</th>\n",
       "      <th>brand_Bentley</th>\n",
       "      <th>brand_Chevrolet</th>\n",
       "      <th>brand_Datsun</th>\n",
       "      <th>brand_Fiat</th>\n",
       "      <th>brand_Ford</th>\n",
       "      <th>brand_Honda</th>\n",
       "      <th>brand_Hyundai</th>\n",
       "      <th>brand_Isuzu</th>\n",
       "      <th>...</th>\n",
       "      <th>distance_travelled(kms)</th>\n",
       "      <th>car_age</th>\n",
       "      <th>new and less used</th>\n",
       "      <th>inv_car_price</th>\n",
       "      <th>inv_car_dist</th>\n",
       "      <th>inv_car_age</th>\n",
       "      <th>std_invprice</th>\n",
       "      <th>std_invdistance_travelled</th>\n",
       "      <th>std_invrank</th>\n",
       "      <th>best_buy1</th>\n",
       "    </tr>\n",
       "  </thead>\n",
       "  <tbody>\n",
       "    <tr>\n",
       "      <th>0</th>\n",
       "      <td>0.0</td>\n",
       "      <td>0.0</td>\n",
       "      <td>0.0</td>\n",
       "      <td>0.0</td>\n",
       "      <td>0.0</td>\n",
       "      <td>0.0</td>\n",
       "      <td>0.0</td>\n",
       "      <td>1.0</td>\n",
       "      <td>0.0</td>\n",
       "      <td>0.0</td>\n",
       "      <td>...</td>\n",
       "      <td>9680.0</td>\n",
       "      <td>5.0</td>\n",
       "      <td>0</td>\n",
       "      <td>0.000002</td>\n",
       "      <td>0.000103</td>\n",
       "      <td>0.2</td>\n",
       "      <td>0.143417</td>\n",
       "      <td>0.03573</td>\n",
       "      <td>0.132143</td>\n",
       "      <td>677.134239</td>\n",
       "    </tr>\n",
       "  </tbody>\n",
       "</table>\n",
       "<p>1 rows × 231 columns</p>\n",
       "</div>"
      ],
      "text/plain": [
       "   brand_Audi  brand_BMW  brand_Bentley  brand_Chevrolet  brand_Datsun  \\\n",
       "0         0.0        0.0            0.0              0.0           0.0   \n",
       "\n",
       "   brand_Fiat  brand_Ford  brand_Honda  brand_Hyundai  brand_Isuzu  ...  \\\n",
       "0         0.0         0.0          1.0            0.0          0.0  ...   \n",
       "\n",
       "   distance_travelled(kms)  car_age  new and less used  inv_car_price  \\\n",
       "0                   9680.0      5.0                  0       0.000002   \n",
       "\n",
       "   inv_car_dist  inv_car_age  std_invprice  std_invdistance_travelled  \\\n",
       "0      0.000103          0.2      0.143417                    0.03573   \n",
       "\n",
       "   std_invrank   best_buy1  \n",
       "0     0.132143  677.134239  \n",
       "\n",
       "[1 rows x 231 columns]"
      ]
     },
     "execution_count": 82,
     "metadata": {},
     "output_type": "execute_result"
    }
   ],
   "source": [
    "fin = pd.concat([dd,dd1],axis=1)\n",
    "fin"
   ]
  },
  {
   "cell_type": "code",
   "execution_count": 83,
   "id": "39adbaac",
   "metadata": {},
   "outputs": [],
   "source": [
    "fin=fin.drop('price',axis=1)\n"
   ]
  },
  {
   "cell_type": "code",
   "execution_count": 84,
   "id": "9fe5e344",
   "metadata": {},
   "outputs": [
    {
     "data": {
      "text/plain": [
       "(1, 230)"
      ]
     },
     "execution_count": 84,
     "metadata": {},
     "output_type": "execute_result"
    }
   ],
   "source": [
    "fin.shape"
   ]
  },
  {
   "cell_type": "code",
   "execution_count": 85,
   "id": "b0987d90",
   "metadata": {},
   "outputs": [
    {
     "data": {
      "text/plain": [
       "array([424860.])"
      ]
     },
     "execution_count": 85,
     "metadata": {},
     "output_type": "execute_result"
    }
   ],
   "source": [
    "mod.predict(fin)"
   ]
  },
  {
   "cell_type": "code",
   "execution_count": 86,
   "id": "2bb743c2",
   "metadata": {},
   "outputs": [
    {
     "data": {
      "text/plain": [
       "'C:\\\\Users\\\\HARI KISHAN\\\\cat'"
      ]
     },
     "execution_count": 86,
     "metadata": {},
     "output_type": "execute_result"
    }
   ],
   "source": [
    "pwd"
   ]
  },
  {
   "cell_type": "code",
   "execution_count": 87,
   "id": "2c31d0b5",
   "metadata": {},
   "outputs": [],
   "source": [
    "import sklearn"
   ]
  },
  {
   "cell_type": "code",
   "execution_count": 88,
   "id": "7f871779",
   "metadata": {},
   "outputs": [
    {
     "name": "stdout",
     "output_type": "stream",
     "text": [
      "The scikit-learn version is 1.1.2.\n"
     ]
    }
   ],
   "source": [
    "print('The scikit-learn version is {}.'.format(sklearn.__version__))\n"
   ]
  },
  {
   "cell_type": "code",
   "execution_count": 89,
   "id": "5e2f6381",
   "metadata": {},
   "outputs": [
    {
     "data": {
      "text/plain": [
       "'C:\\\\Users\\\\HARI KISHAN\\\\cat'"
      ]
     },
     "execution_count": 89,
     "metadata": {},
     "output_type": "execute_result"
    }
   ],
   "source": [
    "pwd"
   ]
  },
  {
   "cell_type": "code",
   "execution_count": null,
   "id": "d9b726b6",
   "metadata": {},
   "outputs": [],
   "source": []
  }
 ],
 "metadata": {
  "kernelspec": {
   "display_name": "Python 3 (ipykernel)",
   "language": "python",
   "name": "python3"
  },
  "language_info": {
   "codemirror_mode": {
    "name": "ipython",
    "version": 3
   },
   "file_extension": ".py",
   "mimetype": "text/x-python",
   "name": "python",
   "nbconvert_exporter": "python",
   "pygments_lexer": "ipython3",
   "version": "3.9.12"
  }
 },
 "nbformat": 4,
 "nbformat_minor": 5
}
